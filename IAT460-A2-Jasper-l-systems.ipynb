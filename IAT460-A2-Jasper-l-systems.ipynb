{
  "cells": [
    {
      "cell_type": "markdown",
      "metadata": {
        "id": "J9mm8w95X428"
      },
      "source": [
        "<a href=\"https://colab.research.google.com/github/IAT-ComputationalCreativity-Spring2025/Week3-Rule-Based-Systems/blob/main/l-systems_colab.ipynb\" target=\"_parent\"><img src=\"https://colab.research.google.com/assets/colab-badge.svg\" alt=\"Open In Colab\"/></a>"
      ]
    },
    {
      "cell_type": "markdown",
      "metadata": {
        "id": "rlYyA_OmX429"
      },
      "source": [
        "# L-Systems (Lindenmayer Systems) Lab\n",
        "\n",
        "## Introduction\n",
        "\n",
        "L-Systems are parallel rewriting systems that were introduced by Aristid Lindenmayer in 1968. They are particularly useful for modeling plant growth and generating fractals. In this lab, we'll explore how to create various patterns using L-Systems.\n",
        "\n",
        "### Key Concepts:\n",
        "- **Axiom**: The initial state/string\n",
        "- **Production Rules**: Rules that define how to replace characters\n",
        "- **Iterations**: Number of times to apply the rules\n",
        "- **Turtle Graphics**: System for visualizing the L-System output\n",
        "\n",
        "Let's start by importing our required libraries:"
      ]
    },
    {
      "cell_type": "code",
      "execution_count": 1,
      "metadata": {
        "id": "MPSnflkWX42-",
        "outputId": "70e56035-bae1-401d-f8ac-0ca10f09a1f6",
        "colab": {
          "base_uri": "https://localhost:8080/"
        }
      },
      "outputs": [
        {
          "output_type": "stream",
          "name": "stdout",
          "text": [
            "Collecting ColabTurtle\n",
            "  Downloading ColabTurtle-2.1.0.tar.gz (6.8 kB)\n",
            "  Preparing metadata (setup.py) ... \u001b[?25l\u001b[?25hdone\n",
            "Building wheels for collected packages: ColabTurtle\n",
            "  Building wheel for ColabTurtle (setup.py) ... \u001b[?25l\u001b[?25hdone\n",
            "  Created wheel for ColabTurtle: filename=ColabTurtle-2.1.0-py3-none-any.whl size=7642 sha256=3dd4cb0ad4e08c4e104e2e3924864b24595feb8bdbdceb55c5c251b9ebec7a4f\n",
            "  Stored in directory: /root/.cache/pip/wheels/f6/9e/81/137e7da25129474562d30f8660be599e5c8d79228cb747e5b9\n",
            "Successfully built ColabTurtle\n",
            "Installing collected packages: ColabTurtle\n",
            "Successfully installed ColabTurtle-2.1.0\n"
          ]
        }
      ],
      "source": [
        "! pip install ColabTurtle"
      ]
    },
    {
      "cell_type": "code",
      "execution_count": 2,
      "metadata": {
        "id": "fJSIo3faX42-"
      },
      "outputs": [],
      "source": [
        "import ColabTurtle.Turtle as t\n",
        "from IPython.display import clear_output"
      ]
    },
    {
      "cell_type": "markdown",
      "metadata": {
        "id": "4hjFnkpwX42-"
      },
      "source": [
        "## Part 1: Basic L-System Implementation\n",
        "\n",
        "First, let's implement our core L-System functions. These will be used throughout the lab to generate and draw various patterns."
      ]
    },
    {
      "cell_type": "code",
      "execution_count": 3,
      "metadata": {
        "id": "s63XnGd2X42-"
      },
      "outputs": [],
      "source": [
        "def create_l_system(iterations, axiom, rules):\n",
        "    \"\"\"Generate L-System instructions based on axiom and rules.\"\"\"\n",
        "    result = axiom\n",
        "    for _ in range(iterations):\n",
        "        new_string = \"\"\n",
        "        for char in result:\n",
        "            new_string += rules.get(char, char)\n",
        "        result = new_string\n",
        "    return result\n",
        "\n",
        "def draw_l_system(instructions, angle, distance):\n",
        "    \"\"\"Draw the L-System using turtle graphics.\n",
        "\n",
        "    Parameters:\n",
        "    - instructions: string of L-System commands\n",
        "    - angle: turning angle in degrees\n",
        "    - distance: forward movement distance\n",
        "    \"\"\"\n",
        "    stack = []\n",
        "    for cmd in instructions:\n",
        "        if cmd == 'F':  # Move forward and draw\n",
        "            t.forward(distance)\n",
        "        elif cmd == 'f':  # Move forward without drawing\n",
        "            t.penup()\n",
        "            t.forward(distance)\n",
        "            t.pendown()\n",
        "        elif cmd == '+':  # Turn right\n",
        "            t.right(angle)\n",
        "        elif cmd == '-':  # Turn left\n",
        "            t.left(angle)\n",
        "        elif cmd == '[':  # Save current state\n",
        "            stack.append((t.position(), t.heading()))\n",
        "        elif cmd == ']':  # Restore previous state\n",
        "            position, heading = stack.pop()\n",
        "            t.penup()\n",
        "            t.goto(position)\n",
        "            t.setheading(heading)\n",
        "            t.pendown()\n",
        "        elif cmd == '1': #pen size 1\n",
        "            t.pensize(1)\n",
        "            t.pencolor(255,200,200)\n",
        "        elif cmd == '2': #pen size 2\n",
        "            t.pensize(2)\n",
        "            t.pencolor(255,225,225)\n",
        "        elif cmd == '3': #pen size 3\n",
        "            t.pensize(3)\n",
        "            t.pencolor(255,255,255)\n",
        "\n",
        "def setup_turtle():\n",
        "        t.initializeTurtle()\n",
        "        t.hideturtle()\n",
        "        t.speed(13)  # Fastest speed\n",
        "        t.penup()\n",
        "        t.goto(t.window_width() // 2, t.window_height() //2 )  # Start position\n",
        "        t.pendown()\n"
      ]
    },
    {
      "cell_type": "markdown",
      "metadata": {
        "id": "P_0awNyhX42_"
      },
      "source": [
        "## Exercise 1: Koch Curve\n",
        "\n",
        "The Koch curve is a classic example of a fractal pattern. Let's create it using our L-System:"
      ]
    },
    {
      "cell_type": "code",
      "execution_count": 4,
      "metadata": {
        "id": "ChKDbtnEX42_",
        "outputId": "05f0cca1-fdbe-40e5-9057-c011aee5d793",
        "colab": {
          "base_uri": "https://localhost:8080/",
          "height": 522
        }
      },
      "outputs": [
        {
          "output_type": "display_data",
          "data": {
            "text/plain": [
              "<IPython.core.display.HTML object>"
            ],
            "text/html": [
              "\n",
              "      <svg width=\"800\" height=\"500\">\n",
              "        <rect width=\"100%\" height=\"100%\" fill=\"black\"/>\n",
              "        <line x1=\"400\" y1=\"250\" x2=\"400.0\" y2=\"245.0\" stroke-linecap=\"round\" style=\"stroke:white;stroke-width:2\"/><line x1=\"400.0\" y1=\"245.0\" x2=\"405.0\" y2=\"245.0\" stroke-linecap=\"round\" style=\"stroke:white;stroke-width:2\"/><line x1=\"405.0\" y1=\"245.0\" x2=\"405.0\" y2=\"240.0\" stroke-linecap=\"round\" style=\"stroke:white;stroke-width:2\"/><line x1=\"405.0\" y1=\"240.0\" x2=\"400.0\" y2=\"240.0\" stroke-linecap=\"round\" style=\"stroke:white;stroke-width:2\"/><line x1=\"400.0\" y1=\"240.0\" x2=\"400.0\" y2=\"235.0\" stroke-linecap=\"round\" style=\"stroke:white;stroke-width:2\"/><line x1=\"400.0\" y1=\"235.0\" x2=\"405.0\" y2=\"235.0\" stroke-linecap=\"round\" style=\"stroke:white;stroke-width:2\"/><line x1=\"405.0\" y1=\"235.0\" x2=\"405.0\" y2=\"240.0\" stroke-linecap=\"round\" style=\"stroke:white;stroke-width:2\"/><line x1=\"405.0\" y1=\"240.0\" x2=\"410.0\" y2=\"240.0\" stroke-linecap=\"round\" style=\"stroke:white;stroke-width:2\"/><line x1=\"410.0\" y1=\"240.0\" x2=\"410.0\" y2=\"235.0\" stroke-linecap=\"round\" style=\"stroke:white;stroke-width:2\"/><line x1=\"410.0\" y1=\"235.0\" x2=\"415.0\" y2=\"235.0\" stroke-linecap=\"round\" style=\"stroke:white;stroke-width:2\"/><line x1=\"415.0\" y1=\"235.0\" x2=\"415.0\" y2=\"230.0\" stroke-linecap=\"round\" style=\"stroke:white;stroke-width:2\"/><line x1=\"415.0\" y1=\"230.0\" x2=\"420.0\" y2=\"230.0\" stroke-linecap=\"round\" style=\"stroke:white;stroke-width:2\"/><line x1=\"420.0\" y1=\"230.0\" x2=\"420.0\" y2=\"225.0\" stroke-linecap=\"round\" style=\"stroke:white;stroke-width:2\"/><line x1=\"420.0\" y1=\"225.0\" x2=\"415.0\" y2=\"225.0\" stroke-linecap=\"round\" style=\"stroke:white;stroke-width:2\"/><line x1=\"415.0\" y1=\"225.0\" x2=\"415.0\" y2=\"220.0\" stroke-linecap=\"round\" style=\"stroke:white;stroke-width:2\"/><line x1=\"415.0\" y1=\"220.0\" x2=\"410.0\" y2=\"220.0\" stroke-linecap=\"round\" style=\"stroke:white;stroke-width:2\"/><line x1=\"410.0\" y1=\"220.0\" x2=\"410.0\" y2=\"215.0\" stroke-linecap=\"round\" style=\"stroke:white;stroke-width:2\"/><line x1=\"410.0\" y1=\"215.0\" x2=\"405.0\" y2=\"215.0\" stroke-linecap=\"round\" style=\"stroke:white;stroke-width:2\"/><line x1=\"405.0\" y1=\"215.0\" x2=\"405.0\" y2=\"220.0\" stroke-linecap=\"round\" style=\"stroke:white;stroke-width:2\"/><line x1=\"405.0\" y1=\"220.0\" x2=\"400.0\" y2=\"220.0\" stroke-linecap=\"round\" style=\"stroke:white;stroke-width:2\"/><line x1=\"400.0\" y1=\"220.0\" x2=\"400.0\" y2=\"215.0\" stroke-linecap=\"round\" style=\"stroke:white;stroke-width:2\"/><line x1=\"400.0\" y1=\"215.0\" x2=\"405.0\" y2=\"215.0\" stroke-linecap=\"round\" style=\"stroke:white;stroke-width:2\"/><line x1=\"405.0\" y1=\"215.0\" x2=\"405.0\" y2=\"210.0\" stroke-linecap=\"round\" style=\"stroke:white;stroke-width:2\"/><line x1=\"405.0\" y1=\"210.0\" x2=\"400.0\" y2=\"210.0\" stroke-linecap=\"round\" style=\"stroke:white;stroke-width:2\"/><line x1=\"400.0\" y1=\"210.0\" x2=\"400.0\" y2=\"205.0\" stroke-linecap=\"round\" style=\"stroke:white;stroke-width:2\"/><line x1=\"400.0\" y1=\"205.0\" x2=\"405.0\" y2=\"205.0\" stroke-linecap=\"round\" style=\"stroke:white;stroke-width:2\"/><line x1=\"405.0\" y1=\"205.0\" x2=\"405.0\" y2=\"210.0\" stroke-linecap=\"round\" style=\"stroke:white;stroke-width:2\"/><line x1=\"405.0\" y1=\"210.0\" x2=\"410.0\" y2=\"210.0\" stroke-linecap=\"round\" style=\"stroke:white;stroke-width:2\"/><line x1=\"410.0\" y1=\"210.0\" x2=\"410.0\" y2=\"205.0\" stroke-linecap=\"round\" style=\"stroke:white;stroke-width:2\"/><line x1=\"410.0\" y1=\"205.0\" x2=\"415.0\" y2=\"205.0\" stroke-linecap=\"round\" style=\"stroke:white;stroke-width:2\"/><line x1=\"415.0\" y1=\"205.0\" x2=\"415.0\" y2=\"210.0\" stroke-linecap=\"round\" style=\"stroke:white;stroke-width:2\"/><line x1=\"415.0\" y1=\"210.0\" x2=\"410.0\" y2=\"210.0\" stroke-linecap=\"round\" style=\"stroke:white;stroke-width:2\"/><line x1=\"410.0\" y1=\"210.0\" x2=\"410.0\" y2=\"215.0\" stroke-linecap=\"round\" style=\"stroke:white;stroke-width:2\"/><line x1=\"410.0\" y1=\"215.0\" x2=\"415.0\" y2=\"215.0\" stroke-linecap=\"round\" style=\"stroke:white;stroke-width:2\"/><line x1=\"415.0\" y1=\"215.0\" x2=\"415.0\" y2=\"220.0\" stroke-linecap=\"round\" style=\"stroke:white;stroke-width:2\"/><line x1=\"415.0\" y1=\"220.0\" x2=\"420.0\" y2=\"220.0\" stroke-linecap=\"round\" style=\"stroke:white;stroke-width:2\"/><line x1=\"420.0\" y1=\"220.0\" x2=\"420.0\" y2=\"225.0\" stroke-linecap=\"round\" style=\"stroke:white;stroke-width:2\"/><line x1=\"420.0\" y1=\"225.0\" x2=\"425.0\" y2=\"225.0\" stroke-linecap=\"round\" style=\"stroke:white;stroke-width:2\"/><line x1=\"425.0\" y1=\"225.0\" x2=\"425.0\" y2=\"220.0\" stroke-linecap=\"round\" style=\"stroke:white;stroke-width:2\"/><line x1=\"425.0\" y1=\"220.0\" x2=\"430.0\" y2=\"220.0\" stroke-linecap=\"round\" style=\"stroke:white;stroke-width:2\"/><line x1=\"430.0\" y1=\"220.0\" x2=\"430.0\" y2=\"215.0\" stroke-linecap=\"round\" style=\"stroke:white;stroke-width:2\"/><line x1=\"430.0\" y1=\"215.0\" x2=\"435.0\" y2=\"215.0\" stroke-linecap=\"round\" style=\"stroke:white;stroke-width:2\"/><line x1=\"435.0\" y1=\"215.0\" x2=\"435.0\" y2=\"210.0\" stroke-linecap=\"round\" style=\"stroke:white;stroke-width:2\"/><line x1=\"435.0\" y1=\"210.0\" x2=\"430.0\" y2=\"210.0\" stroke-linecap=\"round\" style=\"stroke:white;stroke-width:2\"/><line x1=\"430.0\" y1=\"210.0\" x2=\"430.0\" y2=\"205.0\" stroke-linecap=\"round\" style=\"stroke:white;stroke-width:2\"/><line x1=\"430.0\" y1=\"205.0\" x2=\"435.0\" y2=\"205.0\" stroke-linecap=\"round\" style=\"stroke:white;stroke-width:2\"/><line x1=\"435.0\" y1=\"205.0\" x2=\"435.0\" y2=\"210.0\" stroke-linecap=\"round\" style=\"stroke:white;stroke-width:2\"/><line x1=\"435.0\" y1=\"210.0\" x2=\"440.0\" y2=\"210.0\" stroke-linecap=\"round\" style=\"stroke:white;stroke-width:2\"/><line x1=\"440.0\" y1=\"210.0\" x2=\"440.0\" y2=\"205.0\" stroke-linecap=\"round\" style=\"stroke:white;stroke-width:2\"/><line x1=\"440.0\" y1=\"205.0\" x2=\"445.0\" y2=\"205.0\" stroke-linecap=\"round\" style=\"stroke:white;stroke-width:2\"/><line x1=\"445.0\" y1=\"205.0\" x2=\"445.0\" y2=\"200.0\" stroke-linecap=\"round\" style=\"stroke:white;stroke-width:2\"/><line x1=\"445.0\" y1=\"200.0\" x2=\"450.0\" y2=\"200.0\" stroke-linecap=\"round\" style=\"stroke:white;stroke-width:2\"/><line x1=\"450.0\" y1=\"200.0\" x2=\"450.0\" y2=\"195.0\" stroke-linecap=\"round\" style=\"stroke:white;stroke-width:2\"/><line x1=\"450.0\" y1=\"195.0\" x2=\"445.0\" y2=\"195.0\" stroke-linecap=\"round\" style=\"stroke:white;stroke-width:2\"/><line x1=\"445.0\" y1=\"195.0\" x2=\"445.0\" y2=\"190.0\" stroke-linecap=\"round\" style=\"stroke:white;stroke-width:2\"/><line x1=\"445.0\" y1=\"190.0\" x2=\"450.0\" y2=\"190.0\" stroke-linecap=\"round\" style=\"stroke:white;stroke-width:2\"/><line x1=\"450.0\" y1=\"190.0\" x2=\"450.0\" y2=\"195.0\" stroke-linecap=\"round\" style=\"stroke:white;stroke-width:2\"/><line x1=\"450.0\" y1=\"195.0\" x2=\"455.0\" y2=\"195.0\" stroke-linecap=\"round\" style=\"stroke:white;stroke-width:2\"/><line x1=\"455.0\" y1=\"195.0\" x2=\"455.0\" y2=\"190.0\" stroke-linecap=\"round\" style=\"stroke:white;stroke-width:2\"/><line x1=\"455.0\" y1=\"190.0\" x2=\"460.0\" y2=\"190.0\" stroke-linecap=\"round\" style=\"stroke:white;stroke-width:2\"/><line x1=\"460.0\" y1=\"190.0\" x2=\"460.0\" y2=\"185.0\" stroke-linecap=\"round\" style=\"stroke:white;stroke-width:2\"/><line x1=\"460.0\" y1=\"185.0\" x2=\"465.0\" y2=\"185.0\" stroke-linecap=\"round\" style=\"stroke:white;stroke-width:2\"/><line x1=\"465.0\" y1=\"185.0\" x2=\"465.0\" y2=\"180.0\" stroke-linecap=\"round\" style=\"stroke:white;stroke-width:2\"/><line x1=\"465.0\" y1=\"180.0\" x2=\"460.0\" y2=\"180.0\" stroke-linecap=\"round\" style=\"stroke:white;stroke-width:2\"/><line x1=\"460.0\" y1=\"180.0\" x2=\"460.0\" y2=\"175.0\" stroke-linecap=\"round\" style=\"stroke:white;stroke-width:2\"/><line x1=\"460.0\" y1=\"175.0\" x2=\"455.0\" y2=\"175.0\" stroke-linecap=\"round\" style=\"stroke:white;stroke-width:2\"/><line x1=\"455.0\" y1=\"175.0\" x2=\"455.0\" y2=\"170.0\" stroke-linecap=\"round\" style=\"stroke:white;stroke-width:2\"/><line x1=\"455.0\" y1=\"170.0\" x2=\"450.0\" y2=\"170.0\" stroke-linecap=\"round\" style=\"stroke:white;stroke-width:2\"/><line x1=\"450.0\" y1=\"170.0\" x2=\"450.0\" y2=\"175.0\" stroke-linecap=\"round\" style=\"stroke:white;stroke-width:2\"/><line x1=\"450.0\" y1=\"175.0\" x2=\"445.0\" y2=\"175.0\" stroke-linecap=\"round\" style=\"stroke:white;stroke-width:2\"/><line x1=\"445.0\" y1=\"175.0\" x2=\"445.0\" y2=\"170.0\" stroke-linecap=\"round\" style=\"stroke:white;stroke-width:2\"/><line x1=\"445.0\" y1=\"170.0\" x2=\"450.0\" y2=\"170.0\" stroke-linecap=\"round\" style=\"stroke:white;stroke-width:2\"/><line x1=\"450.0\" y1=\"170.0\" x2=\"450.0\" y2=\"165.0\" stroke-linecap=\"round\" style=\"stroke:white;stroke-width:2\"/><line x1=\"450.0\" y1=\"165.0\" x2=\"445.0\" y2=\"165.0\" stroke-linecap=\"round\" style=\"stroke:white;stroke-width:2\"/><line x1=\"445.0\" y1=\"165.0\" x2=\"445.0\" y2=\"160.0\" stroke-linecap=\"round\" style=\"stroke:white;stroke-width:2\"/><line x1=\"445.0\" y1=\"160.0\" x2=\"440.0\" y2=\"160.0\" stroke-linecap=\"round\" style=\"stroke:white;stroke-width:2\"/><line x1=\"440.0\" y1=\"160.0\" x2=\"440.0\" y2=\"155.0\" stroke-linecap=\"round\" style=\"stroke:white;stroke-width:2\"/><line x1=\"440.0\" y1=\"155.0\" x2=\"435.0\" y2=\"155.0\" stroke-linecap=\"round\" style=\"stroke:white;stroke-width:2\"/><line x1=\"435.0\" y1=\"155.0\" x2=\"435.0\" y2=\"160.0\" stroke-linecap=\"round\" style=\"stroke:white;stroke-width:2\"/><line x1=\"435.0\" y1=\"160.0\" x2=\"430.0\" y2=\"160.0\" stroke-linecap=\"round\" style=\"stroke:white;stroke-width:2\"/><line x1=\"430.0\" y1=\"160.0\" x2=\"430.0\" y2=\"155.0\" stroke-linecap=\"round\" style=\"stroke:white;stroke-width:2\"/><line x1=\"430.0\" y1=\"155.0\" x2=\"435.0\" y2=\"155.0\" stroke-linecap=\"round\" style=\"stroke:white;stroke-width:2\"/><line x1=\"435.0\" y1=\"155.0\" x2=\"435.0\" y2=\"150.0\" stroke-linecap=\"round\" style=\"stroke:white;stroke-width:2\"/><line x1=\"435.0\" y1=\"150.0\" x2=\"430.0\" y2=\"150.0\" stroke-linecap=\"round\" style=\"stroke:white;stroke-width:2\"/><line x1=\"430.0\" y1=\"150.0\" x2=\"430.0\" y2=\"145.0\" stroke-linecap=\"round\" style=\"stroke:white;stroke-width:2\"/><line x1=\"430.0\" y1=\"145.0\" x2=\"425.0\" y2=\"145.0\" stroke-linecap=\"round\" style=\"stroke:white;stroke-width:2\"/><line x1=\"425.0\" y1=\"145.0\" x2=\"425.0\" y2=\"140.0\" stroke-linecap=\"round\" style=\"stroke:white;stroke-width:2\"/><line x1=\"425.0\" y1=\"140.0\" x2=\"420.0\" y2=\"140.0\" stroke-linecap=\"round\" style=\"stroke:white;stroke-width:2\"/><line x1=\"420.0\" y1=\"140.0\" x2=\"420.0\" y2=\"145.0\" stroke-linecap=\"round\" style=\"stroke:white;stroke-width:2\"/><line x1=\"420.0\" y1=\"145.0\" x2=\"415.0\" y2=\"145.0\" stroke-linecap=\"round\" style=\"stroke:white;stroke-width:2\"/><line x1=\"415.0\" y1=\"145.0\" x2=\"415.0\" y2=\"150.0\" stroke-linecap=\"round\" style=\"stroke:white;stroke-width:2\"/><line x1=\"415.0\" y1=\"150.0\" x2=\"410.0\" y2=\"150.0\" stroke-linecap=\"round\" style=\"stroke:white;stroke-width:2\"/><line x1=\"410.0\" y1=\"150.0\" x2=\"410.0\" y2=\"155.0\" stroke-linecap=\"round\" style=\"stroke:white;stroke-width:2\"/><line x1=\"410.0\" y1=\"155.0\" x2=\"415.0\" y2=\"155.0\" stroke-linecap=\"round\" style=\"stroke:white;stroke-width:2\"/><line x1=\"415.0\" y1=\"155.0\" x2=\"415.0\" y2=\"160.0\" stroke-linecap=\"round\" style=\"stroke:white;stroke-width:2\"/><line x1=\"415.0\" y1=\"160.0\" x2=\"410.0\" y2=\"160.0\" stroke-linecap=\"round\" style=\"stroke:white;stroke-width:2\"/><line x1=\"410.0\" y1=\"160.0\" x2=\"410.0\" y2=\"155.0\" stroke-linecap=\"round\" style=\"stroke:white;stroke-width:2\"/><line x1=\"410.0\" y1=\"155.0\" x2=\"405.0\" y2=\"155.0\" stroke-linecap=\"round\" style=\"stroke:white;stroke-width:2\"/><line x1=\"405.0\" y1=\"155.0\" x2=\"405.0\" y2=\"160.0\" stroke-linecap=\"round\" style=\"stroke:white;stroke-width:2\"/><line x1=\"405.0\" y1=\"160.0\" x2=\"400.0\" y2=\"160.0\" stroke-linecap=\"round\" style=\"stroke:white;stroke-width:2\"/><line x1=\"400.0\" y1=\"160.0\" x2=\"400.0\" y2=\"155.0\" stroke-linecap=\"round\" style=\"stroke:white;stroke-width:2\"/><line x1=\"400.0\" y1=\"155.0\" x2=\"405.0\" y2=\"155.0\" stroke-linecap=\"round\" style=\"stroke:white;stroke-width:2\"/><line x1=\"405.0\" y1=\"155.0\" x2=\"405.0\" y2=\"150.0\" stroke-linecap=\"round\" style=\"stroke:white;stroke-width:2\"/><line x1=\"405.0\" y1=\"150.0\" x2=\"400.0\" y2=\"150.0\" stroke-linecap=\"round\" style=\"stroke:white;stroke-width:2\"/><line x1=\"400.0\" y1=\"150.0\" x2=\"400.0\" y2=\"145.0\" stroke-linecap=\"round\" style=\"stroke:white;stroke-width:2\"/><line x1=\"400.0\" y1=\"145.0\" x2=\"405.0\" y2=\"145.0\" stroke-linecap=\"round\" style=\"stroke:white;stroke-width:2\"/><line x1=\"405.0\" y1=\"145.0\" x2=\"405.0\" y2=\"150.0\" stroke-linecap=\"round\" style=\"stroke:white;stroke-width:2\"/><line x1=\"405.0\" y1=\"150.0\" x2=\"410.0\" y2=\"150.0\" stroke-linecap=\"round\" style=\"stroke:white;stroke-width:2\"/><line x1=\"410.0\" y1=\"150.0\" x2=\"410.0\" y2=\"145.0\" stroke-linecap=\"round\" style=\"stroke:white;stroke-width:2\"/><line x1=\"410.0\" y1=\"145.0\" x2=\"415.0\" y2=\"145.0\" stroke-linecap=\"round\" style=\"stroke:white;stroke-width:2\"/><line x1=\"415.0\" y1=\"145.0\" x2=\"415.0\" y2=\"140.0\" stroke-linecap=\"round\" style=\"stroke:white;stroke-width:2\"/><line x1=\"415.0\" y1=\"140.0\" x2=\"420.0\" y2=\"140.0\" stroke-linecap=\"round\" style=\"stroke:white;stroke-width:2\"/><line x1=\"420.0\" y1=\"140.0\" x2=\"420.0\" y2=\"135.0\" stroke-linecap=\"round\" style=\"stroke:white;stroke-width:2\"/><line x1=\"420.0\" y1=\"135.0\" x2=\"415.0\" y2=\"135.0\" stroke-linecap=\"round\" style=\"stroke:white;stroke-width:2\"/><line x1=\"415.0\" y1=\"135.0\" x2=\"415.0\" y2=\"130.0\" stroke-linecap=\"round\" style=\"stroke:white;stroke-width:2\"/><line x1=\"415.0\" y1=\"130.0\" x2=\"410.0\" y2=\"130.0\" stroke-linecap=\"round\" style=\"stroke:white;stroke-width:2\"/><line x1=\"410.0\" y1=\"130.0\" x2=\"410.0\" y2=\"125.0\" stroke-linecap=\"round\" style=\"stroke:white;stroke-width:2\"/><line x1=\"410.0\" y1=\"125.0\" x2=\"405.0\" y2=\"125.0\" stroke-linecap=\"round\" style=\"stroke:white;stroke-width:2\"/><line x1=\"405.0\" y1=\"125.0\" x2=\"405.0\" y2=\"130.0\" stroke-linecap=\"round\" style=\"stroke:white;stroke-width:2\"/><line x1=\"405.0\" y1=\"130.0\" x2=\"400.0\" y2=\"130.0\" stroke-linecap=\"round\" style=\"stroke:white;stroke-width:2\"/><line x1=\"400.0\" y1=\"130.0\" x2=\"400.0\" y2=\"125.0\" stroke-linecap=\"round\" style=\"stroke:white;stroke-width:2\"/><line x1=\"400.0\" y1=\"125.0\" x2=\"405.0\" y2=\"125.0\" stroke-linecap=\"round\" style=\"stroke:white;stroke-width:2\"/><line x1=\"405.0\" y1=\"125.0\" x2=\"405.0\" y2=\"120.0\" stroke-linecap=\"round\" style=\"stroke:white;stroke-width:2\"/><line x1=\"405.0\" y1=\"120.0\" x2=\"400.0\" y2=\"120.0\" stroke-linecap=\"round\" style=\"stroke:white;stroke-width:2\"/><line x1=\"400.0\" y1=\"120.0\" x2=\"400.0\" y2=\"115.0\" stroke-linecap=\"round\" style=\"stroke:white;stroke-width:2\"/>\n",
              "        <g visibility=hidden transform=\"rotate(360,400.0,115.0) translate(382.0, 97.0)\">\n",
              "<path style=\" stroke:none;fill-rule:evenodd;fill:white;fill-opacity:1;\" d=\"M 18.214844 0.632812 C 16.109375 1.800781 15.011719 4.074219 15.074219 7.132812 L 15.085938 7.652344 L 14.785156 7.496094 C 13.476562 6.824219 11.957031 6.671875 10.40625 7.066406 C 8.46875 7.550781 6.515625 9.15625 4.394531 11.992188 C 3.0625 13.777344 2.679688 14.636719 3.042969 15.027344 L 3.15625 15.152344 L 3.519531 15.152344 C 4.238281 15.152344 4.828125 14.886719 8.1875 13.039062 C 9.386719 12.378906 10.371094 11.839844 10.378906 11.839844 C 10.386719 11.839844 10.355469 11.929688 10.304688 12.035156 C 9.832031 13.09375 9.257812 14.820312 8.96875 16.078125 C 7.914062 20.652344 8.617188 24.53125 11.070312 27.660156 C 11.351562 28.015625 11.363281 27.914062 10.972656 28.382812 C 8.925781 30.84375 7.945312 33.28125 8.238281 35.1875 C 8.289062 35.527344 8.28125 35.523438 8.917969 35.523438 C 10.941406 35.523438 13.074219 34.207031 15.136719 31.6875 C 15.359375 31.417969 15.328125 31.425781 15.5625 31.574219 C 16.292969 32.042969 18.023438 32.964844 18.175781 32.964844 C 18.335938 32.964844 19.941406 32.210938 20.828125 31.71875 C 20.996094 31.625 21.136719 31.554688 21.136719 31.558594 C 21.203125 31.664062 21.898438 32.414062 22.222656 32.730469 C 23.835938 34.300781 25.5625 35.132812 27.582031 35.300781 C 27.90625 35.328125 27.9375 35.308594 28.007812 34.984375 C 28.382812 33.242188 27.625 30.925781 25.863281 28.425781 L 25.542969 27.96875 L 25.699219 27.785156 C 28.945312 23.960938 29.132812 18.699219 26.257812 11.96875 L 26.207031 11.84375 L 27.945312 12.703125 C 31.53125 14.476562 32.316406 14.800781 33.03125 14.800781 C 33.976562 14.800781 33.78125 13.9375 32.472656 12.292969 C 28.519531 7.355469 25.394531 5.925781 21.921875 7.472656 L 21.558594 7.636719 L 21.578125 7.542969 C 21.699219 6.992188 21.761719 5.742188 21.699219 5.164062 C 21.496094 3.296875 20.664062 1.964844 19.003906 0.855469 C 18.480469 0.503906 18.457031 0.5 18.214844 0.632812\"/>\n",
              "</g>\n",
              "      </svg>\n",
              "    "
            ]
          },
          "metadata": {}
        }
      ],
      "source": [
        "# Koch curve parameters\n",
        "koch_axiom = \"F\"\n",
        "koch_rules = {\"F\": \"F+F-F-F+F\"}\n",
        "koch_iterations = 3\n",
        "koch_angle = 90\n",
        "\n",
        "# Generate and draw\n",
        "setup_turtle()\n",
        "t.pensize(2)\n",
        "koch_instructions = create_l_system(koch_iterations, koch_axiom, koch_rules)\n",
        "draw_l_system(koch_instructions, koch_angle, 5)"
      ]
    },
    {
      "cell_type": "markdown",
      "metadata": {
        "id": "1e_lzuw4X42_"
      },
      "source": [
        "### Exercise 1 Tasks:\n",
        "1. Try modifying the number of iterations (start with small numbers like 2-4)\n",
        "2. Change the angle to 60 degrees and observe the difference\n",
        "3. Modify the rules to create your own variation\n",
        "4. Try changing the distance parameter\n",
        "\n",
        "Note: Be careful with high iteration numbers as they can create very complex patterns!"
      ]
    },
    {
      "cell_type": "markdown",
      "metadata": {
        "id": "8Gbe6orPX43A"
      },
      "source": [
        "## Exercise 2: Plant Generation\n",
        "\n",
        "Now let's create a more complex L-System that generates plant-like structures. This system uses brackets to create branches:"
      ]
    },
    {
      "cell_type": "code",
      "execution_count": 5,
      "metadata": {
        "id": "U6bE0dl4X43A",
        "outputId": "28257dc9-d8d6-4ed3-bae0-2dc3f78d5924",
        "colab": {
          "base_uri": "https://localhost:8080/",
          "height": 841
        }
      },
      "outputs": [
        {
          "output_type": "display_data",
          "data": {
            "text/plain": [
              "<IPython.core.display.HTML object>"
            ],
            "text/html": [
              "\n",
              "      <svg width=\"800\" height=\"500\">\n",
              "        <rect width=\"100%\" height=\"100%\" fill=\"black\"/>\n",
              "        <line x1=\"400\" y1=\"250\" x2=\"400.0\" y2=\"240.0\" stroke-linecap=\"round\" style=\"stroke:white;stroke-width:1\"/><line x1=\"400.0\" y1=\"240.0\" x2=\"400.0\" y2=\"230.0\" stroke-linecap=\"round\" style=\"stroke:white;stroke-width:1\"/><line x1=\"400.0\" y1=\"230.0\" x2=\"400.0\" y2=\"220.0\" stroke-linecap=\"round\" style=\"stroke:white;stroke-width:1\"/><line x1=\"400.0\" y1=\"220.0\" x2=\"400.0\" y2=\"210.0\" stroke-linecap=\"round\" style=\"stroke:white;stroke-width:1\"/><line x1=\"400.0\" y1=\"210.0\" x2=\"400.0\" y2=\"200.0\" stroke-linecap=\"round\" style=\"stroke:white;stroke-width:1\"/><line x1=\"400.0\" y1=\"200.0\" x2=\"400.0\" y2=\"190.0\" stroke-linecap=\"round\" style=\"stroke:white;stroke-width:1\"/><line x1=\"400.0\" y1=\"190.0\" x2=\"400.0\" y2=\"180.0\" stroke-linecap=\"round\" style=\"stroke:white;stroke-width:1\"/><line x1=\"400.0\" y1=\"180.0\" x2=\"400.0\" y2=\"170.0\" stroke-linecap=\"round\" style=\"stroke:white;stroke-width:1\"/><line x1=\"400.0\" y1=\"170.0\" x2=\"404.226\" y2=\"160.937\" stroke-linecap=\"round\" style=\"stroke:white;stroke-width:1\"/><line x1=\"404.226\" y1=\"160.937\" x2=\"408.452\" y2=\"151.874\" stroke-linecap=\"round\" style=\"stroke:white;stroke-width:1\"/><line x1=\"408.452\" y1=\"151.874\" x2=\"412.678\" y2=\"142.811\" stroke-linecap=\"round\" style=\"stroke:white;stroke-width:1\"/><line x1=\"412.678\" y1=\"142.811\" x2=\"416.904\" y2=\"133.748\" stroke-linecap=\"round\" style=\"stroke:white;stroke-width:1\"/><line x1=\"416.904\" y1=\"133.748\" x2=\"424.564\" y2=\"127.32\" stroke-linecap=\"round\" style=\"stroke:white;stroke-width:1\"/><line x1=\"424.564\" y1=\"127.32\" x2=\"432.224\" y2=\"120.892\" stroke-linecap=\"round\" style=\"stroke:white;stroke-width:1\"/><line x1=\"432.224\" y1=\"120.892\" x2=\"441.883\" y2=\"118.304\" stroke-linecap=\"round\" style=\"stroke:white;stroke-width:1\"/><line x1=\"441.883\" y1=\"118.304\" x2=\"451.542\" y2=\"115.716\" stroke-linecap=\"round\" style=\"stroke:white;stroke-width:1\"/><line x1=\"451.542\" y1=\"115.716\" x2=\"459.202\" y2=\"109.288\" stroke-linecap=\"round\" style=\"stroke:white;stroke-width:1\"/><line x1=\"432.224\" y1=\"120.892\" x2=\"439.884\" y2=\"114.464\" stroke-linecap=\"round\" style=\"stroke:white;stroke-width:1\"/><line x1=\"439.884\" y1=\"114.464\" x2=\"447.544\" y2=\"108.036\" stroke-linecap=\"round\" style=\"stroke:white;stroke-width:1\"/><line x1=\"447.544\" y1=\"108.036\" x2=\"451.77\" y2=\"98.973\" stroke-linecap=\"round\" style=\"stroke:white;stroke-width:1\"/><line x1=\"432.224\" y1=\"120.892\" x2=\"439.884\" y2=\"114.464\" stroke-linecap=\"round\" style=\"stroke:white;stroke-width:1\"/><line x1=\"439.884\" y1=\"114.464\" x2=\"447.544\" y2=\"108.036\" stroke-linecap=\"round\" style=\"stroke:white;stroke-width:1\"/><line x1=\"447.544\" y1=\"108.036\" x2=\"451.77\" y2=\"98.973\" stroke-linecap=\"round\" style=\"stroke:white;stroke-width:1\"/><line x1=\"451.77\" y1=\"98.973\" x2=\"455.996\" y2=\"89.91\" stroke-linecap=\"round\" style=\"stroke:white;stroke-width:1\"/><line x1=\"455.996\" y1=\"89.91\" x2=\"460.222\" y2=\"80.847\" stroke-linecap=\"round\" style=\"stroke:white;stroke-width:1\"/><line x1=\"460.222\" y1=\"80.847\" x2=\"464.448\" y2=\"71.784\" stroke-linecap=\"round\" style=\"stroke:white;stroke-width:1\"/><line x1=\"464.448\" y1=\"71.784\" x2=\"464.448\" y2=\"61.784\" stroke-linecap=\"round\" style=\"stroke:white;stroke-width:1\"/><line x1=\"447.544\" y1=\"108.036\" x2=\"457.203\" y2=\"105.448\" stroke-linecap=\"round\" style=\"stroke:white;stroke-width:1\"/><line x1=\"457.203\" y1=\"105.448\" x2=\"466.862\" y2=\"102.86\" stroke-linecap=\"round\" style=\"stroke:white;stroke-width:1\"/><line x1=\"466.862\" y1=\"102.86\" x2=\"474.522\" y2=\"96.432\" stroke-linecap=\"round\" style=\"stroke:white;stroke-width:1\"/><line x1=\"416.904\" y1=\"133.748\" x2=\"421.13\" y2=\"124.685\" stroke-linecap=\"round\" style=\"stroke:white;stroke-width:1\"/><line x1=\"421.13\" y1=\"124.685\" x2=\"425.356\" y2=\"115.622\" stroke-linecap=\"round\" style=\"stroke:white;stroke-width:1\"/><line x1=\"425.356\" y1=\"115.622\" x2=\"433.016\" y2=\"109.194\" stroke-linecap=\"round\" style=\"stroke:white;stroke-width:1\"/><line x1=\"433.016\" y1=\"109.194\" x2=\"440.676\" y2=\"102.766\" stroke-linecap=\"round\" style=\"stroke:white;stroke-width:1\"/><line x1=\"440.676\" y1=\"102.766\" x2=\"444.902\" y2=\"93.703\" stroke-linecap=\"round\" style=\"stroke:white;stroke-width:1\"/><line x1=\"425.356\" y1=\"115.622\" x2=\"429.582\" y2=\"106.559\" stroke-linecap=\"round\" style=\"stroke:white;stroke-width:1\"/><line x1=\"429.582\" y1=\"106.559\" x2=\"433.808\" y2=\"97.496\" stroke-linecap=\"round\" style=\"stroke:white;stroke-width:1\"/><line x1=\"433.808\" y1=\"97.496\" x2=\"433.808\" y2=\"87.496\" stroke-linecap=\"round\" style=\"stroke:white;stroke-width:1\"/><line x1=\"425.356\" y1=\"115.622\" x2=\"429.582\" y2=\"106.559\" stroke-linecap=\"round\" style=\"stroke:white;stroke-width:1\"/><line x1=\"429.582\" y1=\"106.559\" x2=\"433.808\" y2=\"97.496\" stroke-linecap=\"round\" style=\"stroke:white;stroke-width:1\"/><line x1=\"433.808\" y1=\"97.496\" x2=\"433.808\" y2=\"87.496\" stroke-linecap=\"round\" style=\"stroke:white;stroke-width:1\"/><line x1=\"433.808\" y1=\"87.496\" x2=\"433.808\" y2=\"77.496\" stroke-linecap=\"round\" style=\"stroke:white;stroke-width:1\"/><line x1=\"433.808\" y1=\"77.496\" x2=\"433.808\" y2=\"67.496\" stroke-linecap=\"round\" style=\"stroke:white;stroke-width:1\"/><line x1=\"433.808\" y1=\"67.496\" x2=\"433.808\" y2=\"57.496\" stroke-linecap=\"round\" style=\"stroke:white;stroke-width:1\"/><line x1=\"433.808\" y1=\"57.496\" x2=\"429.582\" y2=\"48.433\" stroke-linecap=\"round\" style=\"stroke:white;stroke-width:1\"/><line x1=\"433.808\" y1=\"97.496\" x2=\"441.468\" y2=\"91.068\" stroke-linecap=\"round\" style=\"stroke:white;stroke-width:1\"/><line x1=\"441.468\" y1=\"91.068\" x2=\"449.128\" y2=\"84.64\" stroke-linecap=\"round\" style=\"stroke:white;stroke-width:1\"/><line x1=\"449.128\" y1=\"84.64\" x2=\"453.354\" y2=\"75.577\" stroke-linecap=\"round\" style=\"stroke:white;stroke-width:1\"/><line x1=\"416.904\" y1=\"133.748\" x2=\"421.13\" y2=\"124.685\" stroke-linecap=\"round\" style=\"stroke:white;stroke-width:1\"/><line x1=\"421.13\" y1=\"124.685\" x2=\"425.356\" y2=\"115.622\" stroke-linecap=\"round\" style=\"stroke:white;stroke-width:1\"/><line x1=\"425.356\" y1=\"115.622\" x2=\"429.582\" y2=\"106.559\" stroke-linecap=\"round\" style=\"stroke:white;stroke-width:1\"/><line x1=\"429.582\" y1=\"106.559\" x2=\"433.808\" y2=\"97.496\" stroke-linecap=\"round\" style=\"stroke:white;stroke-width:1\"/><line x1=\"433.808\" y1=\"97.496\" x2=\"433.808\" y2=\"87.496\" stroke-linecap=\"round\" style=\"stroke:white;stroke-width:1\"/><line x1=\"433.808\" y1=\"87.496\" x2=\"433.808\" y2=\"77.496\" stroke-linecap=\"round\" style=\"stroke:white;stroke-width:1\"/><line x1=\"433.808\" y1=\"77.496\" x2=\"433.808\" y2=\"67.496\" stroke-linecap=\"round\" style=\"stroke:white;stroke-width:1\"/><line x1=\"433.808\" y1=\"67.496\" x2=\"433.808\" y2=\"57.496\" stroke-linecap=\"round\" style=\"stroke:white;stroke-width:1\"/><line x1=\"433.808\" y1=\"57.496\" x2=\"433.808\" y2=\"47.496\" stroke-linecap=\"round\" style=\"stroke:white;stroke-width:1\"/><line x1=\"433.808\" y1=\"47.496\" x2=\"433.808\" y2=\"37.496\" stroke-linecap=\"round\" style=\"stroke:white;stroke-width:1\"/><line x1=\"433.808\" y1=\"37.496\" x2=\"438.034\" y2=\"28.433\" stroke-linecap=\"round\" style=\"stroke:white;stroke-width:1\"/><line x1=\"438.034\" y1=\"28.433\" x2=\"442.26\" y2=\"19.37\" stroke-linecap=\"round\" style=\"stroke:white;stroke-width:1\"/><line x1=\"442.26\" y1=\"19.37\" x2=\"442.26\" y2=\"9.37\" stroke-linecap=\"round\" style=\"stroke:white;stroke-width:1\"/><line x1=\"433.808\" y1=\"37.496\" x2=\"433.808\" y2=\"27.496\" stroke-linecap=\"round\" style=\"stroke:white;stroke-width:1\"/><line x1=\"433.808\" y1=\"27.496\" x2=\"433.808\" y2=\"17.496\" stroke-linecap=\"round\" style=\"stroke:white;stroke-width:1\"/><line x1=\"433.808\" y1=\"17.496\" x2=\"429.582\" y2=\"8.433\" stroke-linecap=\"round\" style=\"stroke:white;stroke-width:1\"/><line x1=\"433.808\" y1=\"37.496\" x2=\"433.808\" y2=\"27.496\" stroke-linecap=\"round\" style=\"stroke:white;stroke-width:1\"/><line x1=\"433.808\" y1=\"27.496\" x2=\"433.808\" y2=\"17.496\" stroke-linecap=\"round\" style=\"stroke:white;stroke-width:1\"/><line x1=\"433.808\" y1=\"17.496\" x2=\"429.582\" y2=\"8.433\" stroke-linecap=\"round\" style=\"stroke:white;stroke-width:1\"/><line x1=\"429.582\" y1=\"8.433\" x2=\"425.356\" y2=\"-0.63\" stroke-linecap=\"round\" style=\"stroke:white;stroke-width:1\"/><line x1=\"425.356\" y1=\"-0.63\" x2=\"421.13\" y2=\"-9.693\" stroke-linecap=\"round\" style=\"stroke:white;stroke-width:1\"/>\n",
              "        <g visibility=hidden transform=\"rotate(360,421.13,-9.693) translate(403.13, -27.692999999999998)\">\n",
              "<path style=\" stroke:none;fill-rule:evenodd;fill:white;fill-opacity:1;\" d=\"M 18.214844 0.632812 C 16.109375 1.800781 15.011719 4.074219 15.074219 7.132812 L 15.085938 7.652344 L 14.785156 7.496094 C 13.476562 6.824219 11.957031 6.671875 10.40625 7.066406 C 8.46875 7.550781 6.515625 9.15625 4.394531 11.992188 C 3.0625 13.777344 2.679688 14.636719 3.042969 15.027344 L 3.15625 15.152344 L 3.519531 15.152344 C 4.238281 15.152344 4.828125 14.886719 8.1875 13.039062 C 9.386719 12.378906 10.371094 11.839844 10.378906 11.839844 C 10.386719 11.839844 10.355469 11.929688 10.304688 12.035156 C 9.832031 13.09375 9.257812 14.820312 8.96875 16.078125 C 7.914062 20.652344 8.617188 24.53125 11.070312 27.660156 C 11.351562 28.015625 11.363281 27.914062 10.972656 28.382812 C 8.925781 30.84375 7.945312 33.28125 8.238281 35.1875 C 8.289062 35.527344 8.28125 35.523438 8.917969 35.523438 C 10.941406 35.523438 13.074219 34.207031 15.136719 31.6875 C 15.359375 31.417969 15.328125 31.425781 15.5625 31.574219 C 16.292969 32.042969 18.023438 32.964844 18.175781 32.964844 C 18.335938 32.964844 19.941406 32.210938 20.828125 31.71875 C 20.996094 31.625 21.136719 31.554688 21.136719 31.558594 C 21.203125 31.664062 21.898438 32.414062 22.222656 32.730469 C 23.835938 34.300781 25.5625 35.132812 27.582031 35.300781 C 27.90625 35.328125 27.9375 35.308594 28.007812 34.984375 C 28.382812 33.242188 27.625 30.925781 25.863281 28.425781 L 25.542969 27.96875 L 25.699219 27.785156 C 28.945312 23.960938 29.132812 18.699219 26.257812 11.96875 L 26.207031 11.84375 L 27.945312 12.703125 C 31.53125 14.476562 32.316406 14.800781 33.03125 14.800781 C 33.976562 14.800781 33.78125 13.9375 32.472656 12.292969 C 28.519531 7.355469 25.394531 5.925781 21.921875 7.472656 L 21.558594 7.636719 L 21.578125 7.542969 C 21.699219 6.992188 21.761719 5.742188 21.699219 5.164062 C 21.496094 3.296875 20.664062 1.964844 19.003906 0.855469 C 18.480469 0.503906 18.457031 0.5 18.214844 0.632812\"/>\n",
              "</g>\n",
              "      </svg>\n",
              "    "
            ]
          },
          "metadata": {}
        },
        {
          "output_type": "error",
          "ename": "ValueError",
          "evalue": "new y position must be non-negative.",
          "traceback": [
            "\u001b[0;31m---------------------------------------------------------------------------\u001b[0m",
            "\u001b[0;31mValueError\u001b[0m                                Traceback (most recent call last)",
            "\u001b[0;32m<ipython-input-5-6ed752abb6d7>\u001b[0m in \u001b[0;36m<cell line: 0>\u001b[0;34m()\u001b[0m\n\u001b[1;32m     12\u001b[0m \u001b[0mt\u001b[0m\u001b[0;34m.\u001b[0m\u001b[0mpensize\u001b[0m\u001b[0;34m(\u001b[0m\u001b[0;36m1\u001b[0m\u001b[0;34m)\u001b[0m\u001b[0;34m\u001b[0m\u001b[0;34m\u001b[0m\u001b[0m\n\u001b[1;32m     13\u001b[0m \u001b[0mplant_instructions\u001b[0m \u001b[0;34m=\u001b[0m \u001b[0mcreate_l_system\u001b[0m\u001b[0;34m(\u001b[0m\u001b[0mplant_iterations\u001b[0m\u001b[0;34m,\u001b[0m \u001b[0mplant_axiom\u001b[0m\u001b[0;34m,\u001b[0m \u001b[0mplant_rules\u001b[0m\u001b[0;34m)\u001b[0m\u001b[0;34m\u001b[0m\u001b[0;34m\u001b[0m\u001b[0m\n\u001b[0;32m---> 14\u001b[0;31m \u001b[0mdraw_l_system\u001b[0m\u001b[0;34m(\u001b[0m\u001b[0mplant_instructions\u001b[0m\u001b[0;34m,\u001b[0m \u001b[0mplant_angle\u001b[0m\u001b[0;34m,\u001b[0m \u001b[0;36m10\u001b[0m\u001b[0;34m)\u001b[0m\u001b[0;34m\u001b[0m\u001b[0;34m\u001b[0m\u001b[0m\n\u001b[0m",
            "\u001b[0;32m<ipython-input-3-3c283fe6dc57>\u001b[0m in \u001b[0;36mdraw_l_system\u001b[0;34m(instructions, angle, distance)\u001b[0m\n\u001b[1;32m     34\u001b[0m             \u001b[0mposition\u001b[0m\u001b[0;34m,\u001b[0m \u001b[0mheading\u001b[0m \u001b[0;34m=\u001b[0m \u001b[0mstack\u001b[0m\u001b[0;34m.\u001b[0m\u001b[0mpop\u001b[0m\u001b[0;34m(\u001b[0m\u001b[0;34m)\u001b[0m\u001b[0;34m\u001b[0m\u001b[0;34m\u001b[0m\u001b[0m\n\u001b[1;32m     35\u001b[0m             \u001b[0mt\u001b[0m\u001b[0;34m.\u001b[0m\u001b[0mpenup\u001b[0m\u001b[0;34m(\u001b[0m\u001b[0;34m)\u001b[0m\u001b[0;34m\u001b[0m\u001b[0;34m\u001b[0m\u001b[0m\n\u001b[0;32m---> 36\u001b[0;31m             \u001b[0mt\u001b[0m\u001b[0;34m.\u001b[0m\u001b[0mgoto\u001b[0m\u001b[0;34m(\u001b[0m\u001b[0mposition\u001b[0m\u001b[0;34m)\u001b[0m\u001b[0;34m\u001b[0m\u001b[0;34m\u001b[0m\u001b[0m\n\u001b[0m\u001b[1;32m     37\u001b[0m             \u001b[0mt\u001b[0m\u001b[0;34m.\u001b[0m\u001b[0msetheading\u001b[0m\u001b[0;34m(\u001b[0m\u001b[0mheading\u001b[0m\u001b[0;34m)\u001b[0m\u001b[0;34m\u001b[0m\u001b[0;34m\u001b[0m\u001b[0m\n\u001b[1;32m     38\u001b[0m             \u001b[0mt\u001b[0m\u001b[0;34m.\u001b[0m\u001b[0mpendown\u001b[0m\u001b[0;34m(\u001b[0m\u001b[0;34m)\u001b[0m\u001b[0;34m\u001b[0m\u001b[0;34m\u001b[0m\u001b[0m\n",
            "\u001b[0;32m/usr/local/lib/python3.11/dist-packages/ColabTurtle/Turtle.py\u001b[0m in \u001b[0;36mgoto\u001b[0;34m(x, y)\u001b[0m\n\u001b[1;32m    323\u001b[0m         \u001b[0;32mraise\u001b[0m \u001b[0mValueError\u001b[0m\u001b[0;34m(\u001b[0m\u001b[0;34m'new y position must be a number.'\u001b[0m\u001b[0;34m)\u001b[0m\u001b[0;34m\u001b[0m\u001b[0;34m\u001b[0m\u001b[0m\n\u001b[1;32m    324\u001b[0m     \u001b[0;32mif\u001b[0m \u001b[0my\u001b[0m \u001b[0;34m<\u001b[0m \u001b[0;36m0\u001b[0m\u001b[0;34m:\u001b[0m\u001b[0;34m\u001b[0m\u001b[0;34m\u001b[0m\u001b[0m\n\u001b[0;32m--> 325\u001b[0;31m         \u001b[0;32mraise\u001b[0m \u001b[0mValueError\u001b[0m\u001b[0;34m(\u001b[0m\u001b[0;34m'new y position must be non-negative.'\u001b[0m\u001b[0;34m)\u001b[0m\u001b[0;34m\u001b[0m\u001b[0;34m\u001b[0m\u001b[0m\n\u001b[0m\u001b[1;32m    326\u001b[0m     \u001b[0m_moveToNewPosition\u001b[0m\u001b[0;34m(\u001b[0m\u001b[0;34m(\u001b[0m\u001b[0mx\u001b[0m\u001b[0;34m,\u001b[0m \u001b[0my\u001b[0m\u001b[0;34m)\u001b[0m\u001b[0;34m)\u001b[0m\u001b[0;34m\u001b[0m\u001b[0;34m\u001b[0m\u001b[0m\n\u001b[1;32m    327\u001b[0m \u001b[0;34m\u001b[0m\u001b[0m\n",
            "\u001b[0;31mValueError\u001b[0m: new y position must be non-negative."
          ]
        }
      ],
      "source": [
        "# Plant parameters\n",
        "plant_axiom = \"X\"\n",
        "plant_rules = {\n",
        "    \"X\": \"F+[[X]-X]-F[-FX]+X\",\n",
        "    \"F\": \"FF\"\n",
        "}\n",
        "plant_iterations = 4\n",
        "plant_angle = 25\n",
        "\n",
        "# Generate and draw\n",
        "setup_turtle()\n",
        "t.pensize(1)\n",
        "plant_instructions = create_l_system(plant_iterations, plant_axiom, plant_rules)\n",
        "draw_l_system(plant_instructions, plant_angle, 10)"
      ]
    },
    {
      "cell_type": "markdown",
      "metadata": {
        "id": "fSl4W521X43A"
      },
      "source": [
        "## Challenge: Create a Fractal Tree\n",
        "\n",
        "Now it's your turn to experiment! Below is a template for creating a fractal tree. Try modifying the parameters to create different tree shapes:"
      ]
    },
    {
      "cell_type": "code",
      "execution_count": 15,
      "metadata": {
        "id": "I55bceMTX43A",
        "outputId": "1423f2f7-5c93-4943-b9ef-c08e58733a8f",
        "colab": {
          "base_uri": "https://localhost:8080/",
          "height": 522
        }
      },
      "outputs": [
        {
          "output_type": "display_data",
          "data": {
            "text/plain": [
              "<IPython.core.display.HTML object>"
            ],
            "text/html": [
              "\n",
              "      <svg width=\"800\" height=\"500\">\n",
              "        <rect width=\"100%\" height=\"100%\" fill=\"black\"/>\n",
              "        <line x1=\"400\" y1=\"250\" x2=\"391.34\" y2=\"245.0\" stroke-linecap=\"round\" style=\"stroke:rgb(255,255,255);stroke-width:3\"/><line x1=\"391.34\" y1=\"245.0\" x2=\"382.68\" y2=\"240.0\" stroke-linecap=\"round\" style=\"stroke:rgb(255,255,255);stroke-width:3\"/><line x1=\"382.68\" y1=\"240.0\" x2=\"374.02\" y2=\"235.0\" stroke-linecap=\"round\" style=\"stroke:rgb(255,225,225);stroke-width:2\"/><line x1=\"374.02\" y1=\"235.0\" x2=\"365.274\" y2=\"239.848\" stroke-linecap=\"round\" style=\"stroke:rgb(255,225,225);stroke-width:2\"/><line x1=\"365.274\" y1=\"239.848\" x2=\"356.614\" y2=\"234.848\" stroke-linecap=\"round\" style=\"stroke:rgb(255,225,225);stroke-width:2\"/><line x1=\"356.614\" y1=\"234.848\" x2=\"347.868\" y2=\"239.696\" stroke-linecap=\"round\" style=\"stroke:rgb(255,225,225);stroke-width:2\"/><line x1=\"347.868\" y1=\"239.696\" x2=\"347.519\" y2=\"249.69\" stroke-linecap=\"round\" style=\"stroke:rgb(255,225,225);stroke-width:2\"/><line x1=\"356.614\" y1=\"234.848\" x2=\"347.954\" y2=\"229.848\" stroke-linecap=\"round\" style=\"stroke:rgb(255,225,225);stroke-width:2\"/><line x1=\"347.954\" y1=\"229.848\" x2=\"347.779\" y2=\"219.85\" stroke-linecap=\"round\" style=\"stroke:rgb(255,225,225);stroke-width:2\"/><line x1=\"347.779\" y1=\"219.85\" x2=\"356.259\" y2=\"214.551\" stroke-linecap=\"round\" style=\"stroke:rgb(255,225,225);stroke-width:2\"/><line x1=\"365.274\" y1=\"239.848\" x2=\"364.925\" y2=\"249.842\" stroke-linecap=\"round\" style=\"stroke:rgb(255,225,225);stroke-width:2\"/><line x1=\"364.925\" y1=\"249.842\" x2=\"356.179\" y2=\"254.69\" stroke-linecap=\"round\" style=\"stroke:rgb(255,225,225);stroke-width:2\"/><line x1=\"356.179\" y1=\"254.69\" x2=\"355.83\" y2=\"264.684\" stroke-linecap=\"round\" style=\"stroke:rgb(255,225,225);stroke-width:2\"/><line x1=\"355.83\" y1=\"264.684\" x2=\"364.217\" y2=\"270.13\" stroke-linecap=\"round\" style=\"stroke:rgb(255,225,225);stroke-width:2\"/><line x1=\"374.02\" y1=\"235.0\" x2=\"365.36\" y2=\"230.0\" stroke-linecap=\"round\" style=\"stroke:rgb(255,225,225);stroke-width:2\"/><line x1=\"365.36\" y1=\"230.0\" x2=\"356.7\" y2=\"225.0\" stroke-linecap=\"round\" style=\"stroke:rgb(255,225,225);stroke-width:2\"/><line x1=\"356.7\" y1=\"225.0\" x2=\"348.04\" y2=\"220.0\" stroke-linecap=\"round\" style=\"stroke:rgb(255,200,200);stroke-width:1\"/><line x1=\"348.04\" y1=\"220.0\" x2=\"347.865\" y2=\"210.002\" stroke-linecap=\"round\" style=\"stroke:rgb(255,200,200);stroke-width:1\"/><line x1=\"347.865\" y1=\"210.002\" x2=\"339.205\" y2=\"205.002\" stroke-linecap=\"round\" style=\"stroke:rgb(255,200,200);stroke-width:1\"/><line x1=\"339.205\" y1=\"205.002\" x2=\"330.459\" y2=\"209.85\" stroke-linecap=\"round\" style=\"stroke:rgb(255,200,200);stroke-width:1\"/><line x1=\"330.459\" y1=\"209.85\" x2=\"330.11\" y2=\"219.844\" stroke-linecap=\"round\" style=\"stroke:rgb(255,200,200);stroke-width:1\"/><line x1=\"339.205\" y1=\"205.002\" x2=\"330.545\" y2=\"200.002\" stroke-linecap=\"round\" style=\"stroke:rgb(255,200,200);stroke-width:1\"/><line x1=\"330.545\" y1=\"200.002\" x2=\"330.37\" y2=\"190.004\" stroke-linecap=\"round\" style=\"stroke:rgb(255,200,200);stroke-width:1\"/><line x1=\"330.37\" y1=\"190.004\" x2=\"338.85\" y2=\"184.705\" stroke-linecap=\"round\" style=\"stroke:rgb(255,200,200);stroke-width:1\"/><line x1=\"347.865\" y1=\"210.002\" x2=\"356.345\" y2=\"204.703\" stroke-linecap=\"round\" style=\"stroke:rgb(255,200,200);stroke-width:1\"/><line x1=\"356.345\" y1=\"204.703\" x2=\"356.17\" y2=\"194.705\" stroke-linecap=\"round\" style=\"stroke:rgb(255,200,200);stroke-width:1\"/><line x1=\"356.17\" y1=\"194.705\" x2=\"364.65\" y2=\"189.406\" stroke-linecap=\"round\" style=\"stroke:rgb(255,200,200);stroke-width:1\"/><line x1=\"364.65\" y1=\"189.406\" x2=\"373.56\" y2=\"193.946\" stroke-linecap=\"round\" style=\"stroke:rgb(255,200,200);stroke-width:1\"/><line x1=\"348.04\" y1=\"220.0\" x2=\"339.38\" y2=\"215.0\" stroke-linecap=\"round\" style=\"stroke:rgb(255,200,200);stroke-width:1\"/><line x1=\"339.38\" y1=\"215.0\" x2=\"330.634\" y2=\"219.848\" stroke-linecap=\"round\" style=\"stroke:rgb(255,200,200);stroke-width:1\"/><line x1=\"330.634\" y1=\"219.848\" x2=\"321.974\" y2=\"214.848\" stroke-linecap=\"round\" style=\"stroke:rgb(255,200,200);stroke-width:1\"/><line x1=\"321.974\" y1=\"214.848\" x2=\"313.228\" y2=\"219.696\" stroke-linecap=\"round\" style=\"stroke:rgb(255,200,200);stroke-width:1\"/><line x1=\"313.228\" y1=\"219.696\" x2=\"312.879\" y2=\"229.69\" stroke-linecap=\"round\" style=\"stroke:rgb(255,200,200);stroke-width:1\"/><line x1=\"321.974\" y1=\"214.848\" x2=\"313.314\" y2=\"209.848\" stroke-linecap=\"round\" style=\"stroke:rgb(255,200,200);stroke-width:1\"/><line x1=\"313.314\" y1=\"209.848\" x2=\"313.139\" y2=\"199.85\" stroke-linecap=\"round\" style=\"stroke:rgb(255,200,200);stroke-width:1\"/><line x1=\"313.139\" y1=\"199.85\" x2=\"321.619\" y2=\"194.551\" stroke-linecap=\"round\" style=\"stroke:rgb(255,200,200);stroke-width:1\"/><line x1=\"330.634\" y1=\"219.848\" x2=\"330.285\" y2=\"229.842\" stroke-linecap=\"round\" style=\"stroke:rgb(255,200,200);stroke-width:1\"/><line x1=\"330.285\" y1=\"229.842\" x2=\"321.539\" y2=\"234.69\" stroke-linecap=\"round\" style=\"stroke:rgb(255,200,200);stroke-width:1\"/><line x1=\"321.539\" y1=\"234.69\" x2=\"321.19\" y2=\"244.684\" stroke-linecap=\"round\" style=\"stroke:rgb(255,200,200);stroke-width:1\"/><line x1=\"321.19\" y1=\"244.684\" x2=\"329.577\" y2=\"250.13\" stroke-linecap=\"round\" style=\"stroke:rgb(255,200,200);stroke-width:1\"/><line x1=\"400\" y1=\"250\" x2=\"391.34\" y2=\"255.0\" stroke-linecap=\"round\" style=\"stroke:rgb(255,255,255);stroke-width:3\"/><line x1=\"391.34\" y1=\"255.0\" x2=\"382.68\" y2=\"260.0\" stroke-linecap=\"round\" style=\"stroke:rgb(255,255,255);stroke-width:3\"/><line x1=\"382.68\" y1=\"260.0\" x2=\"374.02\" y2=\"265.0\" stroke-linecap=\"round\" style=\"stroke:rgb(255,225,225);stroke-width:2\"/><line x1=\"374.02\" y1=\"265.0\" x2=\"373.845\" y2=\"274.998\" stroke-linecap=\"round\" style=\"stroke:rgb(255,225,225);stroke-width:2\"/><line x1=\"373.845\" y1=\"274.998\" x2=\"365.185\" y2=\"279.998\" stroke-linecap=\"round\" style=\"stroke:rgb(255,225,225);stroke-width:2\"/><line x1=\"365.185\" y1=\"279.998\" x2=\"365.01\" y2=\"289.996\" stroke-linecap=\"round\" style=\"stroke:rgb(255,225,225);stroke-width:2\"/><line x1=\"365.01\" y1=\"289.996\" x2=\"373.49\" y2=\"295.295\" stroke-linecap=\"round\" style=\"stroke:rgb(255,225,225);stroke-width:2\"/><line x1=\"365.185\" y1=\"279.998\" x2=\"356.525\" y2=\"284.998\" stroke-linecap=\"round\" style=\"stroke:rgb(255,225,225);stroke-width:2\"/><line x1=\"356.525\" y1=\"284.998\" x2=\"347.779\" y2=\"280.15\" stroke-linecap=\"round\" style=\"stroke:rgb(255,225,225);stroke-width:2\"/><line x1=\"347.779\" y1=\"280.15\" x2=\"347.43\" y2=\"270.156\" stroke-linecap=\"round\" style=\"stroke:rgb(255,225,225);stroke-width:2\"/><line x1=\"373.845\" y1=\"274.998\" x2=\"382.325\" y2=\"280.297\" stroke-linecap=\"round\" style=\"stroke:rgb(255,225,225);stroke-width:2\"/><line x1=\"382.325\" y1=\"280.297\" x2=\"382.15\" y2=\"290.295\" stroke-linecap=\"round\" style=\"stroke:rgb(255,225,225);stroke-width:2\"/><line x1=\"382.15\" y1=\"290.295\" x2=\"390.63\" y2=\"295.594\" stroke-linecap=\"round\" style=\"stroke:rgb(255,225,225);stroke-width:2\"/><line x1=\"390.63\" y1=\"295.594\" x2=\"399.54\" y2=\"291.054\" stroke-linecap=\"round\" style=\"stroke:rgb(255,225,225);stroke-width:2\"/><line x1=\"374.02\" y1=\"265.0\" x2=\"365.36\" y2=\"270.0\" stroke-linecap=\"round\" style=\"stroke:rgb(255,225,225);stroke-width:2\"/><line x1=\"365.36\" y1=\"270.0\" x2=\"356.7\" y2=\"275.0\" stroke-linecap=\"round\" style=\"stroke:rgb(255,225,225);stroke-width:2\"/><line x1=\"356.7\" y1=\"275.0\" x2=\"348.04\" y2=\"280.0\" stroke-linecap=\"round\" style=\"stroke:rgb(255,200,200);stroke-width:1\"/><line x1=\"348.04\" y1=\"280.0\" x2=\"339.294\" y2=\"275.152\" stroke-linecap=\"round\" style=\"stroke:rgb(255,200,200);stroke-width:1\"/><line x1=\"339.294\" y1=\"275.152\" x2=\"330.634\" y2=\"280.152\" stroke-linecap=\"round\" style=\"stroke:rgb(255,200,200);stroke-width:1\"/><line x1=\"330.634\" y1=\"280.152\" x2=\"330.459\" y2=\"290.15\" stroke-linecap=\"round\" style=\"stroke:rgb(255,200,200);stroke-width:1\"/><line x1=\"330.459\" y1=\"290.15\" x2=\"338.939\" y2=\"295.449\" stroke-linecap=\"round\" style=\"stroke:rgb(255,200,200);stroke-width:1\"/><line x1=\"330.634\" y1=\"280.152\" x2=\"321.974\" y2=\"285.152\" stroke-linecap=\"round\" style=\"stroke:rgb(255,200,200);stroke-width:1\"/><line x1=\"321.974\" y1=\"285.152\" x2=\"313.228\" y2=\"280.304\" stroke-linecap=\"round\" style=\"stroke:rgb(255,200,200);stroke-width:1\"/><line x1=\"313.228\" y1=\"280.304\" x2=\"312.879\" y2=\"270.31\" stroke-linecap=\"round\" style=\"stroke:rgb(255,200,200);stroke-width:1\"/><line x1=\"339.294\" y1=\"275.152\" x2=\"338.945\" y2=\"265.158\" stroke-linecap=\"round\" style=\"stroke:rgb(255,200,200);stroke-width:1\"/><line x1=\"338.945\" y1=\"265.158\" x2=\"330.199\" y2=\"260.31\" stroke-linecap=\"round\" style=\"stroke:rgb(255,200,200);stroke-width:1\"/><line x1=\"330.199\" y1=\"260.31\" x2=\"329.85\" y2=\"250.316\" stroke-linecap=\"round\" style=\"stroke:rgb(255,200,200);stroke-width:1\"/><line x1=\"329.85\" y1=\"250.316\" x2=\"338.237\" y2=\"244.87\" stroke-linecap=\"round\" style=\"stroke:rgb(255,200,200);stroke-width:1\"/><line x1=\"348.04\" y1=\"280.0\" x2=\"339.38\" y2=\"285.0\" stroke-linecap=\"round\" style=\"stroke:rgb(255,200,200);stroke-width:1\"/><line x1=\"339.38\" y1=\"285.0\" x2=\"339.205\" y2=\"294.998\" stroke-linecap=\"round\" style=\"stroke:rgb(255,200,200);stroke-width:1\"/><line x1=\"339.205\" y1=\"294.998\" x2=\"330.545\" y2=\"299.998\" stroke-linecap=\"round\" style=\"stroke:rgb(255,200,200);stroke-width:1\"/><line x1=\"330.545\" y1=\"299.998\" x2=\"330.37\" y2=\"309.996\" stroke-linecap=\"round\" style=\"stroke:rgb(255,200,200);stroke-width:1\"/><line x1=\"330.37\" y1=\"309.996\" x2=\"338.85\" y2=\"315.295\" stroke-linecap=\"round\" style=\"stroke:rgb(255,200,200);stroke-width:1\"/><line x1=\"330.545\" y1=\"299.998\" x2=\"321.885\" y2=\"304.998\" stroke-linecap=\"round\" style=\"stroke:rgb(255,200,200);stroke-width:1\"/><line x1=\"321.885\" y1=\"304.998\" x2=\"313.139\" y2=\"300.15\" stroke-linecap=\"round\" style=\"stroke:rgb(255,200,200);stroke-width:1\"/><line x1=\"313.139\" y1=\"300.15\" x2=\"312.79\" y2=\"290.156\" stroke-linecap=\"round\" style=\"stroke:rgb(255,200,200);stroke-width:1\"/><line x1=\"339.205\" y1=\"294.998\" x2=\"347.685\" y2=\"300.297\" stroke-linecap=\"round\" style=\"stroke:rgb(255,200,200);stroke-width:1\"/><line x1=\"347.685\" y1=\"300.297\" x2=\"347.51\" y2=\"310.295\" stroke-linecap=\"round\" style=\"stroke:rgb(255,200,200);stroke-width:1\"/><line x1=\"347.51\" y1=\"310.295\" x2=\"355.99\" y2=\"315.594\" stroke-linecap=\"round\" style=\"stroke:rgb(255,200,200);stroke-width:1\"/><line x1=\"355.99\" y1=\"315.594\" x2=\"364.9\" y2=\"311.054\" stroke-linecap=\"round\" style=\"stroke:rgb(255,200,200);stroke-width:1\"/><line x1=\"400\" y1=\"250\" x2=\"400.0\" y2=\"260.0\" stroke-linecap=\"round\" style=\"stroke:rgb(255,255,255);stroke-width:3\"/><line x1=\"400.0\" y1=\"260.0\" x2=\"400.0\" y2=\"270.0\" stroke-linecap=\"round\" style=\"stroke:rgb(255,255,255);stroke-width:3\"/><line x1=\"400.0\" y1=\"270.0\" x2=\"400.0\" y2=\"280.0\" stroke-linecap=\"round\" style=\"stroke:rgb(255,225,225);stroke-width:2\"/><line x1=\"400.0\" y1=\"280.0\" x2=\"408.572\" y2=\"285.15\" stroke-linecap=\"round\" style=\"stroke:rgb(255,225,225);stroke-width:2\"/><line x1=\"408.572\" y1=\"285.15\" x2=\"408.572\" y2=\"295.15\" stroke-linecap=\"round\" style=\"stroke:rgb(255,225,225);stroke-width:2\"/><line x1=\"408.572\" y1=\"295.15\" x2=\"417.144\" y2=\"300.3\" stroke-linecap=\"round\" style=\"stroke:rgb(255,225,225);stroke-width:2\"/><line x1=\"417.144\" y1=\"300.3\" x2=\"425.973\" y2=\"295.605\" stroke-linecap=\"round\" style=\"stroke:rgb(255,225,225);stroke-width:2\"/><line x1=\"408.572\" y1=\"295.15\" x2=\"408.572\" y2=\"305.15\" stroke-linecap=\"round\" style=\"stroke:rgb(255,225,225);stroke-width:2\"/><line x1=\"408.572\" y1=\"305.15\" x2=\"400.0\" y2=\"310.3\" stroke-linecap=\"round\" style=\"stroke:rgb(255,225,225);stroke-width:2\"/><line x1=\"400.0\" y1=\"310.3\" x2=\"391.171\" y2=\"305.605\" stroke-linecap=\"round\" style=\"stroke:rgb(255,225,225);stroke-width:2\"/><line x1=\"408.572\" y1=\"285.15\" x2=\"417.401\" y2=\"280.455\" stroke-linecap=\"round\" style=\"stroke:rgb(255,225,225);stroke-width:2\"/><line x1=\"417.401\" y1=\"280.455\" x2=\"425.973\" y2=\"285.605\" stroke-linecap=\"round\" style=\"stroke:rgb(255,225,225);stroke-width:2\"/><line x1=\"425.973\" y1=\"285.605\" x2=\"434.802\" y2=\"280.91\" stroke-linecap=\"round\" style=\"stroke:rgb(255,225,225);stroke-width:2\"/><line x1=\"434.802\" y1=\"280.91\" x2=\"435.325\" y2=\"270.924\" stroke-linecap=\"round\" style=\"stroke:rgb(255,225,225);stroke-width:2\"/><line x1=\"400.0\" y1=\"280.0\" x2=\"400.0\" y2=\"290.0\" stroke-linecap=\"round\" style=\"stroke:rgb(255,225,225);stroke-width:2\"/><line x1=\"400.0\" y1=\"290.0\" x2=\"400.0\" y2=\"300.0\" stroke-linecap=\"round\" style=\"stroke:rgb(255,225,225);stroke-width:2\"/><line x1=\"400.0\" y1=\"300.0\" x2=\"400.0\" y2=\"310.0\" stroke-linecap=\"round\" style=\"stroke:rgb(255,200,200);stroke-width:1\"/><line x1=\"400.0\" y1=\"310.0\" x2=\"391.428\" y2=\"315.15\" stroke-linecap=\"round\" style=\"stroke:rgb(255,200,200);stroke-width:1\"/><line x1=\"391.428\" y1=\"315.15\" x2=\"391.428\" y2=\"325.15\" stroke-linecap=\"round\" style=\"stroke:rgb(255,200,200);stroke-width:1\"/><line x1=\"391.428\" y1=\"325.15\" x2=\"400.0\" y2=\"330.3\" stroke-linecap=\"round\" style=\"stroke:rgb(255,200,200);stroke-width:1\"/><line x1=\"400.0\" y1=\"330.3\" x2=\"408.829\" y2=\"325.605\" stroke-linecap=\"round\" style=\"stroke:rgb(255,200,200);stroke-width:1\"/><line x1=\"391.428\" y1=\"325.15\" x2=\"391.428\" y2=\"335.15\" stroke-linecap=\"round\" style=\"stroke:rgb(255,200,200);stroke-width:1\"/><line x1=\"391.428\" y1=\"335.15\" x2=\"382.856\" y2=\"340.3\" stroke-linecap=\"round\" style=\"stroke:rgb(255,200,200);stroke-width:1\"/><line x1=\"382.856\" y1=\"340.3\" x2=\"374.027\" y2=\"335.605\" stroke-linecap=\"round\" style=\"stroke:rgb(255,200,200);stroke-width:1\"/><line x1=\"391.428\" y1=\"315.15\" x2=\"382.599\" y2=\"310.455\" stroke-linecap=\"round\" style=\"stroke:rgb(255,200,200);stroke-width:1\"/><line x1=\"382.599\" y1=\"310.455\" x2=\"374.027\" y2=\"315.605\" stroke-linecap=\"round\" style=\"stroke:rgb(255,200,200);stroke-width:1\"/><line x1=\"374.027\" y1=\"315.605\" x2=\"365.198\" y2=\"310.91\" stroke-linecap=\"round\" style=\"stroke:rgb(255,200,200);stroke-width:1\"/><line x1=\"365.198\" y1=\"310.91\" x2=\"364.675\" y2=\"300.924\" stroke-linecap=\"round\" style=\"stroke:rgb(255,200,200);stroke-width:1\"/><line x1=\"400.0\" y1=\"310.0\" x2=\"400.0\" y2=\"320.0\" stroke-linecap=\"round\" style=\"stroke:rgb(255,200,200);stroke-width:1\"/><line x1=\"400.0\" y1=\"320.0\" x2=\"408.572\" y2=\"325.15\" stroke-linecap=\"round\" style=\"stroke:rgb(255,200,200);stroke-width:1\"/><line x1=\"408.572\" y1=\"325.15\" x2=\"408.572\" y2=\"335.15\" stroke-linecap=\"round\" style=\"stroke:rgb(255,200,200);stroke-width:1\"/><line x1=\"408.572\" y1=\"335.15\" x2=\"417.144\" y2=\"340.3\" stroke-linecap=\"round\" style=\"stroke:rgb(255,200,200);stroke-width:1\"/><line x1=\"417.144\" y1=\"340.3\" x2=\"425.973\" y2=\"335.605\" stroke-linecap=\"round\" style=\"stroke:rgb(255,200,200);stroke-width:1\"/><line x1=\"408.572\" y1=\"335.15\" x2=\"408.572\" y2=\"345.15\" stroke-linecap=\"round\" style=\"stroke:rgb(255,200,200);stroke-width:1\"/><line x1=\"408.572\" y1=\"345.15\" x2=\"400.0\" y2=\"350.3\" stroke-linecap=\"round\" style=\"stroke:rgb(255,200,200);stroke-width:1\"/><line x1=\"400.0\" y1=\"350.3\" x2=\"391.171\" y2=\"345.605\" stroke-linecap=\"round\" style=\"stroke:rgb(255,200,200);stroke-width:1\"/><line x1=\"408.572\" y1=\"325.15\" x2=\"417.401\" y2=\"320.455\" stroke-linecap=\"round\" style=\"stroke:rgb(255,200,200);stroke-width:1\"/><line x1=\"417.401\" y1=\"320.455\" x2=\"425.973\" y2=\"325.605\" stroke-linecap=\"round\" style=\"stroke:rgb(255,200,200);stroke-width:1\"/><line x1=\"425.973\" y1=\"325.605\" x2=\"434.802\" y2=\"320.91\" stroke-linecap=\"round\" style=\"stroke:rgb(255,200,200);stroke-width:1\"/><line x1=\"434.802\" y1=\"320.91\" x2=\"435.325\" y2=\"310.924\" stroke-linecap=\"round\" style=\"stroke:rgb(255,200,200);stroke-width:1\"/><line x1=\"400\" y1=\"250\" x2=\"408.66\" y2=\"255.0\" stroke-linecap=\"round\" style=\"stroke:rgb(255,255,255);stroke-width:3\"/><line x1=\"408.66\" y1=\"255.0\" x2=\"417.32\" y2=\"260.0\" stroke-linecap=\"round\" style=\"stroke:rgb(255,255,255);stroke-width:3\"/><line x1=\"417.32\" y1=\"260.0\" x2=\"425.98\" y2=\"265.0\" stroke-linecap=\"round\" style=\"stroke:rgb(255,225,225);stroke-width:2\"/><line x1=\"425.98\" y1=\"265.0\" x2=\"434.726\" y2=\"260.152\" stroke-linecap=\"round\" style=\"stroke:rgb(255,225,225);stroke-width:2\"/><line x1=\"434.726\" y1=\"260.152\" x2=\"443.386\" y2=\"265.152\" stroke-linecap=\"round\" style=\"stroke:rgb(255,225,225);stroke-width:2\"/><line x1=\"443.386\" y1=\"265.152\" x2=\"452.132\" y2=\"260.304\" stroke-linecap=\"round\" style=\"stroke:rgb(255,225,225);stroke-width:2\"/><line x1=\"452.132\" y1=\"260.304\" x2=\"452.481\" y2=\"250.31\" stroke-linecap=\"round\" style=\"stroke:rgb(255,225,225);stroke-width:2\"/><line x1=\"443.386\" y1=\"265.152\" x2=\"452.046\" y2=\"270.152\" stroke-linecap=\"round\" style=\"stroke:rgb(255,225,225);stroke-width:2\"/><line x1=\"452.046\" y1=\"270.152\" x2=\"452.221\" y2=\"280.15\" stroke-linecap=\"round\" style=\"stroke:rgb(255,225,225);stroke-width:2\"/><line x1=\"452.221\" y1=\"280.15\" x2=\"443.741\" y2=\"285.449\" stroke-linecap=\"round\" style=\"stroke:rgb(255,225,225);stroke-width:2\"/><line x1=\"434.726\" y1=\"260.152\" x2=\"435.075\" y2=\"250.158\" stroke-linecap=\"round\" style=\"stroke:rgb(255,225,225);stroke-width:2\"/><line x1=\"435.075\" y1=\"250.158\" x2=\"443.821\" y2=\"245.31\" stroke-linecap=\"round\" style=\"stroke:rgb(255,225,225);stroke-width:2\"/><line x1=\"443.821\" y1=\"245.31\" x2=\"444.17\" y2=\"235.316\" stroke-linecap=\"round\" style=\"stroke:rgb(255,225,225);stroke-width:2\"/><line x1=\"444.17\" y1=\"235.316\" x2=\"435.783\" y2=\"229.87\" stroke-linecap=\"round\" style=\"stroke:rgb(255,225,225);stroke-width:2\"/><line x1=\"425.98\" y1=\"265.0\" x2=\"434.64\" y2=\"270.0\" stroke-linecap=\"round\" style=\"stroke:rgb(255,225,225);stroke-width:2\"/><line x1=\"434.64\" y1=\"270.0\" x2=\"443.3\" y2=\"275.0\" stroke-linecap=\"round\" style=\"stroke:rgb(255,225,225);stroke-width:2\"/><line x1=\"443.3\" y1=\"275.0\" x2=\"451.96\" y2=\"280.0\" stroke-linecap=\"round\" style=\"stroke:rgb(255,200,200);stroke-width:1\"/><line x1=\"451.96\" y1=\"280.0\" x2=\"452.135\" y2=\"289.998\" stroke-linecap=\"round\" style=\"stroke:rgb(255,200,200);stroke-width:1\"/><line x1=\"452.135\" y1=\"289.998\" x2=\"460.795\" y2=\"294.998\" stroke-linecap=\"round\" style=\"stroke:rgb(255,200,200);stroke-width:1\"/><line x1=\"460.795\" y1=\"294.998\" x2=\"469.541\" y2=\"290.15\" stroke-linecap=\"round\" style=\"stroke:rgb(255,200,200);stroke-width:1\"/><line x1=\"469.541\" y1=\"290.15\" x2=\"469.89\" y2=\"280.156\" stroke-linecap=\"round\" style=\"stroke:rgb(255,200,200);stroke-width:1\"/><line x1=\"460.795\" y1=\"294.998\" x2=\"469.455\" y2=\"299.998\" stroke-linecap=\"round\" style=\"stroke:rgb(255,200,200);stroke-width:1\"/><line x1=\"469.455\" y1=\"299.998\" x2=\"469.63\" y2=\"309.996\" stroke-linecap=\"round\" style=\"stroke:rgb(255,200,200);stroke-width:1\"/><line x1=\"469.63\" y1=\"309.996\" x2=\"461.15\" y2=\"315.295\" stroke-linecap=\"round\" style=\"stroke:rgb(255,200,200);stroke-width:1\"/><line x1=\"452.135\" y1=\"289.998\" x2=\"443.655\" y2=\"295.297\" stroke-linecap=\"round\" style=\"stroke:rgb(255,200,200);stroke-width:1\"/><line x1=\"443.655\" y1=\"295.297\" x2=\"443.83\" y2=\"305.295\" stroke-linecap=\"round\" style=\"stroke:rgb(255,200,200);stroke-width:1\"/><line x1=\"443.83\" y1=\"305.295\" x2=\"435.35\" y2=\"310.594\" stroke-linecap=\"round\" style=\"stroke:rgb(255,200,200);stroke-width:1\"/><line x1=\"435.35\" y1=\"310.594\" x2=\"426.44\" y2=\"306.054\" stroke-linecap=\"round\" style=\"stroke:rgb(255,200,200);stroke-width:1\"/><line x1=\"451.96\" y1=\"280.0\" x2=\"460.62\" y2=\"285.0\" stroke-linecap=\"round\" style=\"stroke:rgb(255,200,200);stroke-width:1\"/><line x1=\"460.62\" y1=\"285.0\" x2=\"469.366\" y2=\"280.152\" stroke-linecap=\"round\" style=\"stroke:rgb(255,200,200);stroke-width:1\"/><line x1=\"469.366\" y1=\"280.152\" x2=\"478.026\" y2=\"285.152\" stroke-linecap=\"round\" style=\"stroke:rgb(255,200,200);stroke-width:1\"/><line x1=\"478.026\" y1=\"285.152\" x2=\"486.772\" y2=\"280.304\" stroke-linecap=\"round\" style=\"stroke:rgb(255,200,200);stroke-width:1\"/><line x1=\"486.772\" y1=\"280.304\" x2=\"487.121\" y2=\"270.31\" stroke-linecap=\"round\" style=\"stroke:rgb(255,200,200);stroke-width:1\"/><line x1=\"478.026\" y1=\"285.152\" x2=\"486.686\" y2=\"290.152\" stroke-linecap=\"round\" style=\"stroke:rgb(255,200,200);stroke-width:1\"/><line x1=\"486.686\" y1=\"290.152\" x2=\"486.861\" y2=\"300.15\" stroke-linecap=\"round\" style=\"stroke:rgb(255,200,200);stroke-width:1\"/><line x1=\"486.861\" y1=\"300.15\" x2=\"478.381\" y2=\"305.449\" stroke-linecap=\"round\" style=\"stroke:rgb(255,200,200);stroke-width:1\"/><line x1=\"469.366\" y1=\"280.152\" x2=\"469.715\" y2=\"270.158\" stroke-linecap=\"round\" style=\"stroke:rgb(255,200,200);stroke-width:1\"/><line x1=\"469.715\" y1=\"270.158\" x2=\"478.461\" y2=\"265.31\" stroke-linecap=\"round\" style=\"stroke:rgb(255,200,200);stroke-width:1\"/><line x1=\"478.461\" y1=\"265.31\" x2=\"478.81\" y2=\"255.316\" stroke-linecap=\"round\" style=\"stroke:rgb(255,200,200);stroke-width:1\"/><line x1=\"478.81\" y1=\"255.316\" x2=\"470.423\" y2=\"249.87\" stroke-linecap=\"round\" style=\"stroke:rgb(255,200,200);stroke-width:1\"/><line x1=\"400\" y1=\"250\" x2=\"408.66\" y2=\"245.0\" stroke-linecap=\"round\" style=\"stroke:rgb(255,255,255);stroke-width:3\"/><line x1=\"408.66\" y1=\"245.0\" x2=\"417.32\" y2=\"240.0\" stroke-linecap=\"round\" style=\"stroke:rgb(255,255,255);stroke-width:3\"/><line x1=\"417.32\" y1=\"240.0\" x2=\"425.98\" y2=\"235.0\" stroke-linecap=\"round\" style=\"stroke:rgb(255,225,225);stroke-width:2\"/><line x1=\"425.98\" y1=\"235.0\" x2=\"426.155\" y2=\"225.002\" stroke-linecap=\"round\" style=\"stroke:rgb(255,225,225);stroke-width:2\"/><line x1=\"426.155\" y1=\"225.002\" x2=\"434.815\" y2=\"220.002\" stroke-linecap=\"round\" style=\"stroke:rgb(255,225,225);stroke-width:2\"/><line x1=\"434.815\" y1=\"220.002\" x2=\"434.99\" y2=\"210.004\" stroke-linecap=\"round\" style=\"stroke:rgb(255,225,225);stroke-width:2\"/><line x1=\"434.99\" y1=\"210.004\" x2=\"426.51\" y2=\"204.705\" stroke-linecap=\"round\" style=\"stroke:rgb(255,225,225);stroke-width:2\"/><line x1=\"434.815\" y1=\"220.002\" x2=\"443.475\" y2=\"215.002\" stroke-linecap=\"round\" style=\"stroke:rgb(255,225,225);stroke-width:2\"/><line x1=\"443.475\" y1=\"215.002\" x2=\"452.221\" y2=\"219.85\" stroke-linecap=\"round\" style=\"stroke:rgb(255,225,225);stroke-width:2\"/><line x1=\"452.221\" y1=\"219.85\" x2=\"452.57\" y2=\"229.844\" stroke-linecap=\"round\" style=\"stroke:rgb(255,225,225);stroke-width:2\"/><line x1=\"426.155\" y1=\"225.002\" x2=\"417.675\" y2=\"219.703\" stroke-linecap=\"round\" style=\"stroke:rgb(255,225,225);stroke-width:2\"/><line x1=\"417.675\" y1=\"219.703\" x2=\"417.85\" y2=\"209.705\" stroke-linecap=\"round\" style=\"stroke:rgb(255,225,225);stroke-width:2\"/><line x1=\"417.85\" y1=\"209.705\" x2=\"409.37\" y2=\"204.406\" stroke-linecap=\"round\" style=\"stroke:rgb(255,225,225);stroke-width:2\"/><line x1=\"409.37\" y1=\"204.406\" x2=\"400.46\" y2=\"208.946\" stroke-linecap=\"round\" style=\"stroke:rgb(255,225,225);stroke-width:2\"/><line x1=\"425.98\" y1=\"235.0\" x2=\"434.64\" y2=\"230.0\" stroke-linecap=\"round\" style=\"stroke:rgb(255,225,225);stroke-width:2\"/><line x1=\"434.64\" y1=\"230.0\" x2=\"443.3\" y2=\"225.0\" stroke-linecap=\"round\" style=\"stroke:rgb(255,225,225);stroke-width:2\"/><line x1=\"443.3\" y1=\"225.0\" x2=\"451.96\" y2=\"220.0\" stroke-linecap=\"round\" style=\"stroke:rgb(255,200,200);stroke-width:1\"/><line x1=\"451.96\" y1=\"220.0\" x2=\"460.706\" y2=\"224.848\" stroke-linecap=\"round\" style=\"stroke:rgb(255,200,200);stroke-width:1\"/><line x1=\"460.706\" y1=\"224.848\" x2=\"469.366\" y2=\"219.848\" stroke-linecap=\"round\" style=\"stroke:rgb(255,200,200);stroke-width:1\"/><line x1=\"469.366\" y1=\"219.848\" x2=\"469.541\" y2=\"209.85\" stroke-linecap=\"round\" style=\"stroke:rgb(255,200,200);stroke-width:1\"/><line x1=\"469.541\" y1=\"209.85\" x2=\"461.061\" y2=\"204.551\" stroke-linecap=\"round\" style=\"stroke:rgb(255,200,200);stroke-width:1\"/><line x1=\"469.366\" y1=\"219.848\" x2=\"478.026\" y2=\"214.848\" stroke-linecap=\"round\" style=\"stroke:rgb(255,200,200);stroke-width:1\"/><line x1=\"478.026\" y1=\"214.848\" x2=\"486.772\" y2=\"219.696\" stroke-linecap=\"round\" style=\"stroke:rgb(255,200,200);stroke-width:1\"/><line x1=\"486.772\" y1=\"219.696\" x2=\"487.121\" y2=\"229.69\" stroke-linecap=\"round\" style=\"stroke:rgb(255,200,200);stroke-width:1\"/><line x1=\"460.706\" y1=\"224.848\" x2=\"461.055\" y2=\"234.842\" stroke-linecap=\"round\" style=\"stroke:rgb(255,200,200);stroke-width:1\"/><line x1=\"461.055\" y1=\"234.842\" x2=\"469.801\" y2=\"239.69\" stroke-linecap=\"round\" style=\"stroke:rgb(255,200,200);stroke-width:1\"/><line x1=\"469.801\" y1=\"239.69\" x2=\"470.15\" y2=\"249.684\" stroke-linecap=\"round\" style=\"stroke:rgb(255,200,200);stroke-width:1\"/><line x1=\"470.15\" y1=\"249.684\" x2=\"461.763\" y2=\"255.13\" stroke-linecap=\"round\" style=\"stroke:rgb(255,200,200);stroke-width:1\"/><line x1=\"451.96\" y1=\"220.0\" x2=\"460.62\" y2=\"215.0\" stroke-linecap=\"round\" style=\"stroke:rgb(255,200,200);stroke-width:1\"/><line x1=\"460.62\" y1=\"215.0\" x2=\"460.795\" y2=\"205.002\" stroke-linecap=\"round\" style=\"stroke:rgb(255,200,200);stroke-width:1\"/><line x1=\"460.795\" y1=\"205.002\" x2=\"469.455\" y2=\"200.002\" stroke-linecap=\"round\" style=\"stroke:rgb(255,200,200);stroke-width:1\"/><line x1=\"469.455\" y1=\"200.002\" x2=\"469.63\" y2=\"190.004\" stroke-linecap=\"round\" style=\"stroke:rgb(255,200,200);stroke-width:1\"/><line x1=\"469.63\" y1=\"190.004\" x2=\"461.15\" y2=\"184.705\" stroke-linecap=\"round\" style=\"stroke:rgb(255,200,200);stroke-width:1\"/><line x1=\"469.455\" y1=\"200.002\" x2=\"478.115\" y2=\"195.002\" stroke-linecap=\"round\" style=\"stroke:rgb(255,200,200);stroke-width:1\"/><line x1=\"478.115\" y1=\"195.002\" x2=\"486.861\" y2=\"199.85\" stroke-linecap=\"round\" style=\"stroke:rgb(255,200,200);stroke-width:1\"/><line x1=\"486.861\" y1=\"199.85\" x2=\"487.21\" y2=\"209.844\" stroke-linecap=\"round\" style=\"stroke:rgb(255,200,200);stroke-width:1\"/><line x1=\"460.795\" y1=\"205.002\" x2=\"452.315\" y2=\"199.703\" stroke-linecap=\"round\" style=\"stroke:rgb(255,200,200);stroke-width:1\"/><line x1=\"452.315\" y1=\"199.703\" x2=\"452.49\" y2=\"189.705\" stroke-linecap=\"round\" style=\"stroke:rgb(255,200,200);stroke-width:1\"/><line x1=\"452.49\" y1=\"189.705\" x2=\"444.01\" y2=\"184.406\" stroke-linecap=\"round\" style=\"stroke:rgb(255,200,200);stroke-width:1\"/><line x1=\"444.01\" y1=\"184.406\" x2=\"435.1\" y2=\"188.946\" stroke-linecap=\"round\" style=\"stroke:rgb(255,200,200);stroke-width:1\"/><line x1=\"400\" y1=\"250\" x2=\"400.0\" y2=\"240.0\" stroke-linecap=\"round\" style=\"stroke:rgb(255,255,255);stroke-width:3\"/><line x1=\"400.0\" y1=\"240.0\" x2=\"400.0\" y2=\"230.0\" stroke-linecap=\"round\" style=\"stroke:rgb(255,255,255);stroke-width:3\"/><line x1=\"400.0\" y1=\"230.0\" x2=\"400.0\" y2=\"220.0\" stroke-linecap=\"round\" style=\"stroke:rgb(255,225,225);stroke-width:2\"/><line x1=\"400.0\" y1=\"220.0\" x2=\"391.428\" y2=\"214.85\" stroke-linecap=\"round\" style=\"stroke:rgb(255,225,225);stroke-width:2\"/><line x1=\"391.428\" y1=\"214.85\" x2=\"391.428\" y2=\"204.85\" stroke-linecap=\"round\" style=\"stroke:rgb(255,225,225);stroke-width:2\"/><line x1=\"391.428\" y1=\"204.85\" x2=\"382.856\" y2=\"199.7\" stroke-linecap=\"round\" style=\"stroke:rgb(255,225,225);stroke-width:2\"/><line x1=\"382.856\" y1=\"199.7\" x2=\"374.027\" y2=\"204.395\" stroke-linecap=\"round\" style=\"stroke:rgb(255,225,225);stroke-width:2\"/><line x1=\"391.428\" y1=\"204.85\" x2=\"391.428\" y2=\"194.85\" stroke-linecap=\"round\" style=\"stroke:rgb(255,225,225);stroke-width:2\"/><line x1=\"391.428\" y1=\"194.85\" x2=\"400.0\" y2=\"189.7\" stroke-linecap=\"round\" style=\"stroke:rgb(255,225,225);stroke-width:2\"/><line x1=\"400.0\" y1=\"189.7\" x2=\"408.829\" y2=\"194.395\" stroke-linecap=\"round\" style=\"stroke:rgb(255,225,225);stroke-width:2\"/><line x1=\"391.428\" y1=\"214.85\" x2=\"382.599\" y2=\"219.545\" stroke-linecap=\"round\" style=\"stroke:rgb(255,225,225);stroke-width:2\"/><line x1=\"382.599\" y1=\"219.545\" x2=\"374.027\" y2=\"214.395\" stroke-linecap=\"round\" style=\"stroke:rgb(255,225,225);stroke-width:2\"/><line x1=\"374.027\" y1=\"214.395\" x2=\"365.198\" y2=\"219.09\" stroke-linecap=\"round\" style=\"stroke:rgb(255,225,225);stroke-width:2\"/><line x1=\"365.198\" y1=\"219.09\" x2=\"364.675\" y2=\"229.076\" stroke-linecap=\"round\" style=\"stroke:rgb(255,225,225);stroke-width:2\"/><line x1=\"400.0\" y1=\"220.0\" x2=\"400.0\" y2=\"210.0\" stroke-linecap=\"round\" style=\"stroke:rgb(255,225,225);stroke-width:2\"/><line x1=\"400.0\" y1=\"210.0\" x2=\"400.0\" y2=\"200.0\" stroke-linecap=\"round\" style=\"stroke:rgb(255,225,225);stroke-width:2\"/><line x1=\"400.0\" y1=\"200.0\" x2=\"400.0\" y2=\"190.0\" stroke-linecap=\"round\" style=\"stroke:rgb(255,200,200);stroke-width:1\"/><line x1=\"400.0\" y1=\"190.0\" x2=\"408.572\" y2=\"184.85\" stroke-linecap=\"round\" style=\"stroke:rgb(255,200,200);stroke-width:1\"/><line x1=\"408.572\" y1=\"184.85\" x2=\"408.572\" y2=\"174.85\" stroke-linecap=\"round\" style=\"stroke:rgb(255,200,200);stroke-width:1\"/><line x1=\"408.572\" y1=\"174.85\" x2=\"400.0\" y2=\"169.7\" stroke-linecap=\"round\" style=\"stroke:rgb(255,200,200);stroke-width:1\"/><line x1=\"400.0\" y1=\"169.7\" x2=\"391.171\" y2=\"174.395\" stroke-linecap=\"round\" style=\"stroke:rgb(255,200,200);stroke-width:1\"/><line x1=\"408.572\" y1=\"174.85\" x2=\"408.572\" y2=\"164.85\" stroke-linecap=\"round\" style=\"stroke:rgb(255,200,200);stroke-width:1\"/><line x1=\"408.572\" y1=\"164.85\" x2=\"417.144\" y2=\"159.7\" stroke-linecap=\"round\" style=\"stroke:rgb(255,200,200);stroke-width:1\"/><line x1=\"417.144\" y1=\"159.7\" x2=\"425.973\" y2=\"164.395\" stroke-linecap=\"round\" style=\"stroke:rgb(255,200,200);stroke-width:1\"/><line x1=\"408.572\" y1=\"184.85\" x2=\"417.401\" y2=\"189.545\" stroke-linecap=\"round\" style=\"stroke:rgb(255,200,200);stroke-width:1\"/><line x1=\"417.401\" y1=\"189.545\" x2=\"425.973\" y2=\"184.395\" stroke-linecap=\"round\" style=\"stroke:rgb(255,200,200);stroke-width:1\"/><line x1=\"425.973\" y1=\"184.395\" x2=\"434.802\" y2=\"189.09\" stroke-linecap=\"round\" style=\"stroke:rgb(255,200,200);stroke-width:1\"/><line x1=\"434.802\" y1=\"189.09\" x2=\"435.325\" y2=\"199.076\" stroke-linecap=\"round\" style=\"stroke:rgb(255,200,200);stroke-width:1\"/><line x1=\"400.0\" y1=\"190.0\" x2=\"400.0\" y2=\"180.0\" stroke-linecap=\"round\" style=\"stroke:rgb(255,200,200);stroke-width:1\"/><line x1=\"400.0\" y1=\"180.0\" x2=\"391.428\" y2=\"174.85\" stroke-linecap=\"round\" style=\"stroke:rgb(255,200,200);stroke-width:1\"/><line x1=\"391.428\" y1=\"174.85\" x2=\"391.428\" y2=\"164.85\" stroke-linecap=\"round\" style=\"stroke:rgb(255,200,200);stroke-width:1\"/><line x1=\"391.428\" y1=\"164.85\" x2=\"382.856\" y2=\"159.7\" stroke-linecap=\"round\" style=\"stroke:rgb(255,200,200);stroke-width:1\"/><line x1=\"382.856\" y1=\"159.7\" x2=\"374.027\" y2=\"164.395\" stroke-linecap=\"round\" style=\"stroke:rgb(255,200,200);stroke-width:1\"/><line x1=\"391.428\" y1=\"164.85\" x2=\"391.428\" y2=\"154.85\" stroke-linecap=\"round\" style=\"stroke:rgb(255,200,200);stroke-width:1\"/><line x1=\"391.428\" y1=\"154.85\" x2=\"400.0\" y2=\"149.7\" stroke-linecap=\"round\" style=\"stroke:rgb(255,200,200);stroke-width:1\"/><line x1=\"400.0\" y1=\"149.7\" x2=\"408.829\" y2=\"154.395\" stroke-linecap=\"round\" style=\"stroke:rgb(255,200,200);stroke-width:1\"/><line x1=\"391.428\" y1=\"174.85\" x2=\"382.599\" y2=\"179.545\" stroke-linecap=\"round\" style=\"stroke:rgb(255,200,200);stroke-width:1\"/><line x1=\"382.599\" y1=\"179.545\" x2=\"374.027\" y2=\"174.395\" stroke-linecap=\"round\" style=\"stroke:rgb(255,200,200);stroke-width:1\"/><line x1=\"374.027\" y1=\"174.395\" x2=\"365.198\" y2=\"179.09\" stroke-linecap=\"round\" style=\"stroke:rgb(255,200,200);stroke-width:1\"/><line x1=\"365.198\" y1=\"179.09\" x2=\"364.675\" y2=\"189.076\" stroke-linecap=\"round\" style=\"stroke:rgb(255,200,200);stroke-width:1\"/>\n",
              "        <g visibility=hidden transform=\"rotate(360.0,400,250) translate(382, 232)\">\n",
              "<path style=\" stroke:none;fill-rule:evenodd;fill:rgb(255,200,200);fill-opacity:1;\" d=\"M 18.214844 0.632812 C 16.109375 1.800781 15.011719 4.074219 15.074219 7.132812 L 15.085938 7.652344 L 14.785156 7.496094 C 13.476562 6.824219 11.957031 6.671875 10.40625 7.066406 C 8.46875 7.550781 6.515625 9.15625 4.394531 11.992188 C 3.0625 13.777344 2.679688 14.636719 3.042969 15.027344 L 3.15625 15.152344 L 3.519531 15.152344 C 4.238281 15.152344 4.828125 14.886719 8.1875 13.039062 C 9.386719 12.378906 10.371094 11.839844 10.378906 11.839844 C 10.386719 11.839844 10.355469 11.929688 10.304688 12.035156 C 9.832031 13.09375 9.257812 14.820312 8.96875 16.078125 C 7.914062 20.652344 8.617188 24.53125 11.070312 27.660156 C 11.351562 28.015625 11.363281 27.914062 10.972656 28.382812 C 8.925781 30.84375 7.945312 33.28125 8.238281 35.1875 C 8.289062 35.527344 8.28125 35.523438 8.917969 35.523438 C 10.941406 35.523438 13.074219 34.207031 15.136719 31.6875 C 15.359375 31.417969 15.328125 31.425781 15.5625 31.574219 C 16.292969 32.042969 18.023438 32.964844 18.175781 32.964844 C 18.335938 32.964844 19.941406 32.210938 20.828125 31.71875 C 20.996094 31.625 21.136719 31.554688 21.136719 31.558594 C 21.203125 31.664062 21.898438 32.414062 22.222656 32.730469 C 23.835938 34.300781 25.5625 35.132812 27.582031 35.300781 C 27.90625 35.328125 27.9375 35.308594 28.007812 34.984375 C 28.382812 33.242188 27.625 30.925781 25.863281 28.425781 L 25.542969 27.96875 L 25.699219 27.785156 C 28.945312 23.960938 29.132812 18.699219 26.257812 11.96875 L 26.207031 11.84375 L 27.945312 12.703125 C 31.53125 14.476562 32.316406 14.800781 33.03125 14.800781 C 33.976562 14.800781 33.78125 13.9375 32.472656 12.292969 C 28.519531 7.355469 25.394531 5.925781 21.921875 7.472656 L 21.558594 7.636719 L 21.578125 7.542969 C 21.699219 6.992188 21.761719 5.742188 21.699219 5.164062 C 21.496094 3.296875 20.664062 1.964844 19.003906 0.855469 C 18.480469 0.503906 18.457031 0.5 18.214844 0.632812\"/>\n",
              "</g>\n",
              "      </svg>\n",
              "    "
            ]
          },
          "metadata": {}
        }
      ],
      "source": [
        "import random\n",
        "# Your fractal tree parameters\n",
        "tree_axiom = \"X\"\n",
        "tree_rules = {\n",
        "    \"X\": \"3FF2AFF1BA\",\n",
        "    \"A\": \"F[-F[+AB]-F+A]\",\n",
        "    \"B\": \"F[+F[-AB]+F-B]\"\n",
        "}\n",
        "tree_iterations = 3\n",
        "tree_angle = random.randint(20, 90) #picks a random angle between 20 and 90\n",
        "\n",
        "branch_num = random.randint(3, 6); #number of branches in the 'snow flake'\n",
        "start_angle= 360/branch_num; #branches are evenly spaced out\n",
        "\n",
        "setup_turtle()\n",
        "\n",
        "t.pensize(3)\n",
        "# Generate and draw\n",
        "for x in range(0,branch_num) : #draw each branch\n",
        "  t.left(start_angle) #rotate\n",
        "  tree_instructions = create_l_system(tree_iterations, tree_axiom, tree_rules)\n",
        "  draw_l_system(tree_instructions, tree_angle,10)\n",
        "  #after finishing the branch, return to center\n",
        "  t.penup()\n",
        "  t.goto(t.window_width() // 2, t.window_height() //2 )  # Start position\n",
        "  t.pendown()\n"
      ]
    },
    {
      "cell_type": "markdown",
      "metadata": {
        "id": "9wkdxMDuX43A"
      },
      "source": [
        "### Challenge Tasks:\n",
        "1. Modify the rules to create more realistic branching\n",
        "2. Add different colors for different parts of the tree\n",
        "3. Try to create a tree with varying branch lengths\n",
        "4. Experiment with asymmetric branching patterns\n",
        "\n",
        "## Additional Experiments\n",
        "Here are some ideas for further exploration:\n",
        "- Create a snowflake pattern\n",
        "- Generate a spiral pattern\n",
        "- Implement a dragon curve\n",
        "- Create a forest of different trees\n",
        "\n",
        "Tips:\n",
        "- Higher iterations create more complex patterns but take longer to draw\n",
        "- Small changes in rules can create dramatically different results\n",
        "- The angle parameter greatly affects the final appearance\n",
        "- Remember to close turtle windows between experiments"
      ]
    }
  ],
  "metadata": {
    "kernelspec": {
      "display_name": "iat460",
      "language": "python",
      "name": "python3"
    },
    "language_info": {
      "codemirror_mode": {
        "name": "ipython",
        "version": 3
      },
      "file_extension": ".py",
      "mimetype": "text/x-python",
      "name": "python",
      "nbconvert_exporter": "python",
      "pygments_lexer": "ipython3",
      "version": "3.9.21"
    },
    "colab": {
      "provenance": []
    }
  },
  "nbformat": 4,
  "nbformat_minor": 0
}