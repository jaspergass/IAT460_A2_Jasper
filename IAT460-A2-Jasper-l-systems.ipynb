{
  "cells": [
    {
      "cell_type": "markdown",
      "metadata": {
        "id": "J9mm8w95X428"
      },
      "source": [
        "<a href=\"https://colab.research.google.com/github/IAT-ComputationalCreativity-Spring2025/Week3-Rule-Based-Systems/blob/main/l-systems_colab.ipynb\" target=\"_parent\"><img src=\"https://colab.research.google.com/assets/colab-badge.svg\" alt=\"Open In Colab\"/></a>"
      ]
    },
    {
      "cell_type": "markdown",
      "metadata": {
        "id": "rlYyA_OmX429"
      },
      "source": [
        "# L-Systems (Lindenmayer Systems) Lab\n",
        "\n",
        "## Introduction\n",
        "\n",
        "L-Systems are parallel rewriting systems that were introduced by Aristid Lindenmayer in 1968. They are particularly useful for modeling plant growth and generating fractals. In this lab, we'll explore how to create various patterns using L-Systems.\n",
        "\n",
        "### Key Concepts:\n",
        "- **Axiom**: The initial state/string\n",
        "- **Production Rules**: Rules that define how to replace characters\n",
        "- **Iterations**: Number of times to apply the rules\n",
        "- **Turtle Graphics**: System for visualizing the L-System output\n",
        "\n",
        "Let's start by importing our required libraries:"
      ]
    },
    {
      "cell_type": "code",
      "execution_count": 1,
      "metadata": {
        "id": "MPSnflkWX42-",
        "outputId": "359d6c76-e066-4dee-de08-183e6ea93caa",
        "colab": {
          "base_uri": "https://localhost:8080/",
          "height": 0
        }
      },
      "outputs": [
        {
          "output_type": "stream",
          "name": "stdout",
          "text": [
            "Collecting ColabTurtle\n",
            "  Downloading ColabTurtle-2.1.0.tar.gz (6.8 kB)\n",
            "  Preparing metadata (setup.py) ... \u001b[?25l\u001b[?25hdone\n",
            "Building wheels for collected packages: ColabTurtle\n",
            "  Building wheel for ColabTurtle (setup.py) ... \u001b[?25l\u001b[?25hdone\n",
            "  Created wheel for ColabTurtle: filename=ColabTurtle-2.1.0-py3-none-any.whl size=7642 sha256=e934ad4b2f6237f6b74594deb06b4a21939a91b80f9e349ca77f5dfb2aa5fcb4\n",
            "  Stored in directory: /root/.cache/pip/wheels/f6/9e/81/137e7da25129474562d30f8660be599e5c8d79228cb747e5b9\n",
            "Successfully built ColabTurtle\n",
            "Installing collected packages: ColabTurtle\n",
            "Successfully installed ColabTurtle-2.1.0\n"
          ]
        }
      ],
      "source": [
        "! pip install ColabTurtle"
      ]
    },
    {
      "cell_type": "code",
      "execution_count": 2,
      "metadata": {
        "id": "fJSIo3faX42-"
      },
      "outputs": [],
      "source": [
        "import ColabTurtle.Turtle as t\n",
        "from IPython.display import clear_output"
      ]
    },
    {
      "cell_type": "markdown",
      "metadata": {
        "id": "4hjFnkpwX42-"
      },
      "source": [
        "## Part 1: Basic L-System Implementation\n",
        "\n",
        "First, let's implement our core L-System functions. These will be used throughout the lab to generate and draw various patterns."
      ]
    },
    {
      "cell_type": "code",
      "execution_count": 54,
      "metadata": {
        "id": "s63XnGd2X42-"
      },
      "outputs": [],
      "source": [
        "def create_l_system(iterations, axiom, rules):\n",
        "    \"\"\"Generate L-System instructions based on axiom and rules.\"\"\"\n",
        "    result = axiom\n",
        "    for _ in range(iterations):\n",
        "        new_string = \"\"\n",
        "        for char in result:\n",
        "            new_string += rules.get(char, char)\n",
        "        result = new_string\n",
        "    return result\n",
        "\n",
        "def draw_l_system(instructions, angle, distance):\n",
        "    \"\"\"Draw the L-System using turtle graphics.\n",
        "\n",
        "    Parameters:\n",
        "    - instructions: string of L-System commands\n",
        "    - angle: turning angle in degrees\n",
        "    - distance: forward movement distance\n",
        "    \"\"\"\n",
        "    stack = []\n",
        "    for cmd in instructions:\n",
        "        if cmd == 'F':  # Move forward and draw\n",
        "            t.forward(distance)\n",
        "        elif cmd == 'f':  # Move forward without drawing\n",
        "            t.penup()\n",
        "            t.forward(distance)\n",
        "            t.pendown()\n",
        "        elif cmd == '+':  # Turn right\n",
        "            t.right(angle)\n",
        "        elif cmd == '-':  # Turn left\n",
        "            t.left(angle)\n",
        "        elif cmd == '[':  # Save current state\n",
        "            stack.append((t.position(), t.heading()))\n",
        "        elif cmd == ']':  # Restore previous state\n",
        "            position, heading = stack.pop()\n",
        "            t.penup()\n",
        "            t.goto(position)\n",
        "            t.setheading(heading)\n",
        "            t.pendown()\n",
        "        elif cmd == '1': #pen size 1\n",
        "            t.pensize(1)\n",
        "            t.pencolor(255,200,200)\n",
        "        elif cmd == '2': #pen size 2\n",
        "            t.pensize(2)\n",
        "            t.pencolor(255,225,225)\n",
        "        elif cmd == '3': #pen size 3\n",
        "            t.pensize(3)\n",
        "            t.pencolor(255,255,255)\n",
        "\n",
        "def setup_turtle():\n",
        "        t.initializeTurtle()\n",
        "        t.hideturtle()\n",
        "        t.speed(13)  # Fastest speed\n",
        "        t.penup()\n",
        "        t.goto(t.window_width() // 2, t.window_height() //2 )  # Start position\n",
        "        t.pendown()\n"
      ]
    },
    {
      "cell_type": "markdown",
      "metadata": {
        "id": "P_0awNyhX42_"
      },
      "source": [
        "## Exercise 1: Koch Curve\n",
        "\n",
        "The Koch curve is a classic example of a fractal pattern. Let's create it using our L-System:"
      ]
    },
    {
      "cell_type": "code",
      "execution_count": null,
      "metadata": {
        "id": "ChKDbtnEX42_"
      },
      "outputs": [],
      "source": [
        "# Koch curve parameters\n",
        "koch_axiom = \"F\"\n",
        "koch_rules = {\"F\": \"F+F-F-F+F\"}\n",
        "koch_iterations = 3\n",
        "koch_angle = 90\n",
        "\n",
        "# Generate and draw\n",
        "setup_turtle()\n",
        "t.pensize(2)\n",
        "koch_instructions = create_l_system(koch_iterations, koch_axiom, koch_rules)\n",
        "draw_l_system(koch_instructions, koch_angle, 5)"
      ]
    },
    {
      "cell_type": "markdown",
      "metadata": {
        "id": "1e_lzuw4X42_"
      },
      "source": [
        "### Exercise 1 Tasks:\n",
        "1. Try modifying the number of iterations (start with small numbers like 2-4)\n",
        "2. Change the angle to 60 degrees and observe the difference\n",
        "3. Modify the rules to create your own variation\n",
        "4. Try changing the distance parameter\n",
        "\n",
        "Note: Be careful with high iteration numbers as they can create very complex patterns!"
      ]
    },
    {
      "cell_type": "markdown",
      "metadata": {
        "id": "8Gbe6orPX43A"
      },
      "source": [
        "## Exercise 2: Plant Generation\n",
        "\n",
        "Now let's create a more complex L-System that generates plant-like structures. This system uses brackets to create branches:"
      ]
    },
    {
      "cell_type": "code",
      "execution_count": 21,
      "metadata": {
        "id": "U6bE0dl4X43A",
        "outputId": "f116d967-23f0-4f10-ace3-6ce4e0346121",
        "colab": {
          "base_uri": "https://localhost:8080/",
          "height": 841
        }
      },
      "outputs": [
        {
          "output_type": "display_data",
          "data": {
            "text/plain": [
              "<IPython.core.display.HTML object>"
            ],
            "text/html": [
              "\n",
              "      <svg width=\"800\" height=\"500\">\n",
              "        <rect width=\"100%\" height=\"100%\" fill=\"black\"/>\n",
              "        <line x1=\"400\" y1=\"250\" x2=\"400.0\" y2=\"240.0\" stroke-linecap=\"round\" style=\"stroke:white;stroke-width:1\"/><line x1=\"400.0\" y1=\"240.0\" x2=\"400.0\" y2=\"230.0\" stroke-linecap=\"round\" style=\"stroke:white;stroke-width:1\"/><line x1=\"400.0\" y1=\"230.0\" x2=\"400.0\" y2=\"220.0\" stroke-linecap=\"round\" style=\"stroke:white;stroke-width:1\"/><line x1=\"400.0\" y1=\"220.0\" x2=\"400.0\" y2=\"210.0\" stroke-linecap=\"round\" style=\"stroke:white;stroke-width:1\"/><line x1=\"400.0\" y1=\"210.0\" x2=\"400.0\" y2=\"200.0\" stroke-linecap=\"round\" style=\"stroke:white;stroke-width:1\"/><line x1=\"400.0\" y1=\"200.0\" x2=\"400.0\" y2=\"190.0\" stroke-linecap=\"round\" style=\"stroke:white;stroke-width:1\"/><line x1=\"400.0\" y1=\"190.0\" x2=\"400.0\" y2=\"180.0\" stroke-linecap=\"round\" style=\"stroke:white;stroke-width:1\"/><line x1=\"400.0\" y1=\"180.0\" x2=\"400.0\" y2=\"170.0\" stroke-linecap=\"round\" style=\"stroke:white;stroke-width:1\"/><line x1=\"400.0\" y1=\"170.0\" x2=\"404.226\" y2=\"160.937\" stroke-linecap=\"round\" style=\"stroke:white;stroke-width:1\"/><line x1=\"404.226\" y1=\"160.937\" x2=\"408.452\" y2=\"151.874\" stroke-linecap=\"round\" style=\"stroke:white;stroke-width:1\"/><line x1=\"408.452\" y1=\"151.874\" x2=\"412.678\" y2=\"142.811\" stroke-linecap=\"round\" style=\"stroke:white;stroke-width:1\"/><line x1=\"412.678\" y1=\"142.811\" x2=\"416.904\" y2=\"133.748\" stroke-linecap=\"round\" style=\"stroke:white;stroke-width:1\"/><line x1=\"416.904\" y1=\"133.748\" x2=\"424.564\" y2=\"127.32\" stroke-linecap=\"round\" style=\"stroke:white;stroke-width:1\"/><line x1=\"424.564\" y1=\"127.32\" x2=\"432.224\" y2=\"120.892\" stroke-linecap=\"round\" style=\"stroke:white;stroke-width:1\"/><line x1=\"432.224\" y1=\"120.892\" x2=\"441.883\" y2=\"118.304\" stroke-linecap=\"round\" style=\"stroke:white;stroke-width:1\"/><line x1=\"441.883\" y1=\"118.304\" x2=\"451.542\" y2=\"115.716\" stroke-linecap=\"round\" style=\"stroke:white;stroke-width:1\"/><line x1=\"451.542\" y1=\"115.716\" x2=\"459.202\" y2=\"109.288\" stroke-linecap=\"round\" style=\"stroke:white;stroke-width:1\"/><line x1=\"432.224\" y1=\"120.892\" x2=\"439.884\" y2=\"114.464\" stroke-linecap=\"round\" style=\"stroke:white;stroke-width:1\"/><line x1=\"439.884\" y1=\"114.464\" x2=\"447.544\" y2=\"108.036\" stroke-linecap=\"round\" style=\"stroke:white;stroke-width:1\"/><line x1=\"447.544\" y1=\"108.036\" x2=\"451.77\" y2=\"98.973\" stroke-linecap=\"round\" style=\"stroke:white;stroke-width:1\"/><line x1=\"432.224\" y1=\"120.892\" x2=\"439.884\" y2=\"114.464\" stroke-linecap=\"round\" style=\"stroke:white;stroke-width:1\"/><line x1=\"439.884\" y1=\"114.464\" x2=\"447.544\" y2=\"108.036\" stroke-linecap=\"round\" style=\"stroke:white;stroke-width:1\"/><line x1=\"447.544\" y1=\"108.036\" x2=\"451.77\" y2=\"98.973\" stroke-linecap=\"round\" style=\"stroke:white;stroke-width:1\"/><line x1=\"451.77\" y1=\"98.973\" x2=\"455.996\" y2=\"89.91\" stroke-linecap=\"round\" style=\"stroke:white;stroke-width:1\"/><line x1=\"455.996\" y1=\"89.91\" x2=\"460.222\" y2=\"80.847\" stroke-linecap=\"round\" style=\"stroke:white;stroke-width:1\"/><line x1=\"460.222\" y1=\"80.847\" x2=\"464.448\" y2=\"71.784\" stroke-linecap=\"round\" style=\"stroke:white;stroke-width:1\"/><line x1=\"464.448\" y1=\"71.784\" x2=\"464.448\" y2=\"61.784\" stroke-linecap=\"round\" style=\"stroke:white;stroke-width:1\"/><line x1=\"447.544\" y1=\"108.036\" x2=\"457.203\" y2=\"105.448\" stroke-linecap=\"round\" style=\"stroke:white;stroke-width:1\"/><line x1=\"457.203\" y1=\"105.448\" x2=\"466.862\" y2=\"102.86\" stroke-linecap=\"round\" style=\"stroke:white;stroke-width:1\"/><line x1=\"466.862\" y1=\"102.86\" x2=\"474.522\" y2=\"96.432\" stroke-linecap=\"round\" style=\"stroke:white;stroke-width:1\"/><line x1=\"416.904\" y1=\"133.748\" x2=\"421.13\" y2=\"124.685\" stroke-linecap=\"round\" style=\"stroke:white;stroke-width:1\"/><line x1=\"421.13\" y1=\"124.685\" x2=\"425.356\" y2=\"115.622\" stroke-linecap=\"round\" style=\"stroke:white;stroke-width:1\"/><line x1=\"425.356\" y1=\"115.622\" x2=\"433.016\" y2=\"109.194\" stroke-linecap=\"round\" style=\"stroke:white;stroke-width:1\"/><line x1=\"433.016\" y1=\"109.194\" x2=\"440.676\" y2=\"102.766\" stroke-linecap=\"round\" style=\"stroke:white;stroke-width:1\"/><line x1=\"440.676\" y1=\"102.766\" x2=\"444.902\" y2=\"93.703\" stroke-linecap=\"round\" style=\"stroke:white;stroke-width:1\"/><line x1=\"425.356\" y1=\"115.622\" x2=\"429.582\" y2=\"106.559\" stroke-linecap=\"round\" style=\"stroke:white;stroke-width:1\"/><line x1=\"429.582\" y1=\"106.559\" x2=\"433.808\" y2=\"97.496\" stroke-linecap=\"round\" style=\"stroke:white;stroke-width:1\"/><line x1=\"433.808\" y1=\"97.496\" x2=\"433.808\" y2=\"87.496\" stroke-linecap=\"round\" style=\"stroke:white;stroke-width:1\"/><line x1=\"425.356\" y1=\"115.622\" x2=\"429.582\" y2=\"106.559\" stroke-linecap=\"round\" style=\"stroke:white;stroke-width:1\"/><line x1=\"429.582\" y1=\"106.559\" x2=\"433.808\" y2=\"97.496\" stroke-linecap=\"round\" style=\"stroke:white;stroke-width:1\"/><line x1=\"433.808\" y1=\"97.496\" x2=\"433.808\" y2=\"87.496\" stroke-linecap=\"round\" style=\"stroke:white;stroke-width:1\"/><line x1=\"433.808\" y1=\"87.496\" x2=\"433.808\" y2=\"77.496\" stroke-linecap=\"round\" style=\"stroke:white;stroke-width:1\"/><line x1=\"433.808\" y1=\"77.496\" x2=\"433.808\" y2=\"67.496\" stroke-linecap=\"round\" style=\"stroke:white;stroke-width:1\"/><line x1=\"433.808\" y1=\"67.496\" x2=\"433.808\" y2=\"57.496\" stroke-linecap=\"round\" style=\"stroke:white;stroke-width:1\"/><line x1=\"433.808\" y1=\"57.496\" x2=\"429.582\" y2=\"48.433\" stroke-linecap=\"round\" style=\"stroke:white;stroke-width:1\"/><line x1=\"433.808\" y1=\"97.496\" x2=\"441.468\" y2=\"91.068\" stroke-linecap=\"round\" style=\"stroke:white;stroke-width:1\"/><line x1=\"441.468\" y1=\"91.068\" x2=\"449.128\" y2=\"84.64\" stroke-linecap=\"round\" style=\"stroke:white;stroke-width:1\"/><line x1=\"449.128\" y1=\"84.64\" x2=\"453.354\" y2=\"75.577\" stroke-linecap=\"round\" style=\"stroke:white;stroke-width:1\"/><line x1=\"416.904\" y1=\"133.748\" x2=\"421.13\" y2=\"124.685\" stroke-linecap=\"round\" style=\"stroke:white;stroke-width:1\"/><line x1=\"421.13\" y1=\"124.685\" x2=\"425.356\" y2=\"115.622\" stroke-linecap=\"round\" style=\"stroke:white;stroke-width:1\"/><line x1=\"425.356\" y1=\"115.622\" x2=\"429.582\" y2=\"106.559\" stroke-linecap=\"round\" style=\"stroke:white;stroke-width:1\"/><line x1=\"429.582\" y1=\"106.559\" x2=\"433.808\" y2=\"97.496\" stroke-linecap=\"round\" style=\"stroke:white;stroke-width:1\"/><line x1=\"433.808\" y1=\"97.496\" x2=\"433.808\" y2=\"87.496\" stroke-linecap=\"round\" style=\"stroke:white;stroke-width:1\"/><line x1=\"433.808\" y1=\"87.496\" x2=\"433.808\" y2=\"77.496\" stroke-linecap=\"round\" style=\"stroke:white;stroke-width:1\"/><line x1=\"433.808\" y1=\"77.496\" x2=\"433.808\" y2=\"67.496\" stroke-linecap=\"round\" style=\"stroke:white;stroke-width:1\"/><line x1=\"433.808\" y1=\"67.496\" x2=\"433.808\" y2=\"57.496\" stroke-linecap=\"round\" style=\"stroke:white;stroke-width:1\"/><line x1=\"433.808\" y1=\"57.496\" x2=\"433.808\" y2=\"47.496\" stroke-linecap=\"round\" style=\"stroke:white;stroke-width:1\"/><line x1=\"433.808\" y1=\"47.496\" x2=\"433.808\" y2=\"37.496\" stroke-linecap=\"round\" style=\"stroke:white;stroke-width:1\"/><line x1=\"433.808\" y1=\"37.496\" x2=\"438.034\" y2=\"28.433\" stroke-linecap=\"round\" style=\"stroke:white;stroke-width:1\"/><line x1=\"438.034\" y1=\"28.433\" x2=\"442.26\" y2=\"19.37\" stroke-linecap=\"round\" style=\"stroke:white;stroke-width:1\"/><line x1=\"442.26\" y1=\"19.37\" x2=\"442.26\" y2=\"9.37\" stroke-linecap=\"round\" style=\"stroke:white;stroke-width:1\"/><line x1=\"433.808\" y1=\"37.496\" x2=\"433.808\" y2=\"27.496\" stroke-linecap=\"round\" style=\"stroke:white;stroke-width:1\"/><line x1=\"433.808\" y1=\"27.496\" x2=\"433.808\" y2=\"17.496\" stroke-linecap=\"round\" style=\"stroke:white;stroke-width:1\"/><line x1=\"433.808\" y1=\"17.496\" x2=\"429.582\" y2=\"8.433\" stroke-linecap=\"round\" style=\"stroke:white;stroke-width:1\"/><line x1=\"433.808\" y1=\"37.496\" x2=\"433.808\" y2=\"27.496\" stroke-linecap=\"round\" style=\"stroke:white;stroke-width:1\"/><line x1=\"433.808\" y1=\"27.496\" x2=\"433.808\" y2=\"17.496\" stroke-linecap=\"round\" style=\"stroke:white;stroke-width:1\"/><line x1=\"433.808\" y1=\"17.496\" x2=\"429.582\" y2=\"8.433\" stroke-linecap=\"round\" style=\"stroke:white;stroke-width:1\"/><line x1=\"429.582\" y1=\"8.433\" x2=\"425.356\" y2=\"-0.63\" stroke-linecap=\"round\" style=\"stroke:white;stroke-width:1\"/><line x1=\"425.356\" y1=\"-0.63\" x2=\"421.13\" y2=\"-9.693\" stroke-linecap=\"round\" style=\"stroke:white;stroke-width:1\"/>\n",
              "        <g visibility=hidden transform=\"rotate(360,421.13,-9.693) translate(403.13, -27.692999999999998)\">\n",
              "<path style=\" stroke:none;fill-rule:evenodd;fill:white;fill-opacity:1;\" d=\"M 18.214844 0.632812 C 16.109375 1.800781 15.011719 4.074219 15.074219 7.132812 L 15.085938 7.652344 L 14.785156 7.496094 C 13.476562 6.824219 11.957031 6.671875 10.40625 7.066406 C 8.46875 7.550781 6.515625 9.15625 4.394531 11.992188 C 3.0625 13.777344 2.679688 14.636719 3.042969 15.027344 L 3.15625 15.152344 L 3.519531 15.152344 C 4.238281 15.152344 4.828125 14.886719 8.1875 13.039062 C 9.386719 12.378906 10.371094 11.839844 10.378906 11.839844 C 10.386719 11.839844 10.355469 11.929688 10.304688 12.035156 C 9.832031 13.09375 9.257812 14.820312 8.96875 16.078125 C 7.914062 20.652344 8.617188 24.53125 11.070312 27.660156 C 11.351562 28.015625 11.363281 27.914062 10.972656 28.382812 C 8.925781 30.84375 7.945312 33.28125 8.238281 35.1875 C 8.289062 35.527344 8.28125 35.523438 8.917969 35.523438 C 10.941406 35.523438 13.074219 34.207031 15.136719 31.6875 C 15.359375 31.417969 15.328125 31.425781 15.5625 31.574219 C 16.292969 32.042969 18.023438 32.964844 18.175781 32.964844 C 18.335938 32.964844 19.941406 32.210938 20.828125 31.71875 C 20.996094 31.625 21.136719 31.554688 21.136719 31.558594 C 21.203125 31.664062 21.898438 32.414062 22.222656 32.730469 C 23.835938 34.300781 25.5625 35.132812 27.582031 35.300781 C 27.90625 35.328125 27.9375 35.308594 28.007812 34.984375 C 28.382812 33.242188 27.625 30.925781 25.863281 28.425781 L 25.542969 27.96875 L 25.699219 27.785156 C 28.945312 23.960938 29.132812 18.699219 26.257812 11.96875 L 26.207031 11.84375 L 27.945312 12.703125 C 31.53125 14.476562 32.316406 14.800781 33.03125 14.800781 C 33.976562 14.800781 33.78125 13.9375 32.472656 12.292969 C 28.519531 7.355469 25.394531 5.925781 21.921875 7.472656 L 21.558594 7.636719 L 21.578125 7.542969 C 21.699219 6.992188 21.761719 5.742188 21.699219 5.164062 C 21.496094 3.296875 20.664062 1.964844 19.003906 0.855469 C 18.480469 0.503906 18.457031 0.5 18.214844 0.632812\"/>\n",
              "</g>\n",
              "      </svg>\n",
              "    "
            ]
          },
          "metadata": {}
        },
        {
          "output_type": "error",
          "ename": "ValueError",
          "evalue": "new y position must be non-negative.",
          "traceback": [
            "\u001b[0;31m---------------------------------------------------------------------------\u001b[0m",
            "\u001b[0;31mValueError\u001b[0m                                Traceback (most recent call last)",
            "\u001b[0;32m<ipython-input-21-6ed752abb6d7>\u001b[0m in \u001b[0;36m<cell line: 0>\u001b[0;34m()\u001b[0m\n\u001b[1;32m     12\u001b[0m \u001b[0mt\u001b[0m\u001b[0;34m.\u001b[0m\u001b[0mpensize\u001b[0m\u001b[0;34m(\u001b[0m\u001b[0;36m1\u001b[0m\u001b[0;34m)\u001b[0m\u001b[0;34m\u001b[0m\u001b[0;34m\u001b[0m\u001b[0m\n\u001b[1;32m     13\u001b[0m \u001b[0mplant_instructions\u001b[0m \u001b[0;34m=\u001b[0m \u001b[0mcreate_l_system\u001b[0m\u001b[0;34m(\u001b[0m\u001b[0mplant_iterations\u001b[0m\u001b[0;34m,\u001b[0m \u001b[0mplant_axiom\u001b[0m\u001b[0;34m,\u001b[0m \u001b[0mplant_rules\u001b[0m\u001b[0;34m)\u001b[0m\u001b[0;34m\u001b[0m\u001b[0;34m\u001b[0m\u001b[0m\n\u001b[0;32m---> 14\u001b[0;31m \u001b[0mdraw_l_system\u001b[0m\u001b[0;34m(\u001b[0m\u001b[0mplant_instructions\u001b[0m\u001b[0;34m,\u001b[0m \u001b[0mplant_angle\u001b[0m\u001b[0;34m,\u001b[0m \u001b[0;36m10\u001b[0m\u001b[0;34m)\u001b[0m\u001b[0;34m\u001b[0m\u001b[0;34m\u001b[0m\u001b[0m\n\u001b[0m",
            "\u001b[0;32m<ipython-input-11-eb6c6702497f>\u001b[0m in \u001b[0;36mdraw_l_system\u001b[0;34m(instructions, angle, distance)\u001b[0m\n\u001b[1;32m     34\u001b[0m             \u001b[0mposition\u001b[0m\u001b[0;34m,\u001b[0m \u001b[0mheading\u001b[0m \u001b[0;34m=\u001b[0m \u001b[0mstack\u001b[0m\u001b[0;34m.\u001b[0m\u001b[0mpop\u001b[0m\u001b[0;34m(\u001b[0m\u001b[0;34m)\u001b[0m\u001b[0;34m\u001b[0m\u001b[0;34m\u001b[0m\u001b[0m\n\u001b[1;32m     35\u001b[0m             \u001b[0mt\u001b[0m\u001b[0;34m.\u001b[0m\u001b[0mpenup\u001b[0m\u001b[0;34m(\u001b[0m\u001b[0;34m)\u001b[0m\u001b[0;34m\u001b[0m\u001b[0;34m\u001b[0m\u001b[0m\n\u001b[0;32m---> 36\u001b[0;31m             \u001b[0mt\u001b[0m\u001b[0;34m.\u001b[0m\u001b[0mgoto\u001b[0m\u001b[0;34m(\u001b[0m\u001b[0mposition\u001b[0m\u001b[0;34m)\u001b[0m\u001b[0;34m\u001b[0m\u001b[0;34m\u001b[0m\u001b[0m\n\u001b[0m\u001b[1;32m     37\u001b[0m             \u001b[0mt\u001b[0m\u001b[0;34m.\u001b[0m\u001b[0msetheading\u001b[0m\u001b[0;34m(\u001b[0m\u001b[0mheading\u001b[0m\u001b[0;34m)\u001b[0m\u001b[0;34m\u001b[0m\u001b[0;34m\u001b[0m\u001b[0m\n\u001b[1;32m     38\u001b[0m             \u001b[0mt\u001b[0m\u001b[0;34m.\u001b[0m\u001b[0mpendown\u001b[0m\u001b[0;34m(\u001b[0m\u001b[0;34m)\u001b[0m\u001b[0;34m\u001b[0m\u001b[0;34m\u001b[0m\u001b[0m\n",
            "\u001b[0;32m/usr/local/lib/python3.11/dist-packages/ColabTurtle/Turtle.py\u001b[0m in \u001b[0;36mgoto\u001b[0;34m(x, y)\u001b[0m\n\u001b[1;32m    323\u001b[0m         \u001b[0;32mraise\u001b[0m \u001b[0mValueError\u001b[0m\u001b[0;34m(\u001b[0m\u001b[0;34m'new y position must be a number.'\u001b[0m\u001b[0;34m)\u001b[0m\u001b[0;34m\u001b[0m\u001b[0;34m\u001b[0m\u001b[0m\n\u001b[1;32m    324\u001b[0m     \u001b[0;32mif\u001b[0m \u001b[0my\u001b[0m \u001b[0;34m<\u001b[0m \u001b[0;36m0\u001b[0m\u001b[0;34m:\u001b[0m\u001b[0;34m\u001b[0m\u001b[0;34m\u001b[0m\u001b[0m\n\u001b[0;32m--> 325\u001b[0;31m         \u001b[0;32mraise\u001b[0m \u001b[0mValueError\u001b[0m\u001b[0;34m(\u001b[0m\u001b[0;34m'new y position must be non-negative.'\u001b[0m\u001b[0;34m)\u001b[0m\u001b[0;34m\u001b[0m\u001b[0;34m\u001b[0m\u001b[0m\n\u001b[0m\u001b[1;32m    326\u001b[0m     \u001b[0m_moveToNewPosition\u001b[0m\u001b[0;34m(\u001b[0m\u001b[0;34m(\u001b[0m\u001b[0mx\u001b[0m\u001b[0;34m,\u001b[0m \u001b[0my\u001b[0m\u001b[0;34m)\u001b[0m\u001b[0;34m)\u001b[0m\u001b[0;34m\u001b[0m\u001b[0;34m\u001b[0m\u001b[0m\n\u001b[1;32m    327\u001b[0m \u001b[0;34m\u001b[0m\u001b[0m\n",
            "\u001b[0;31mValueError\u001b[0m: new y position must be non-negative."
          ]
        }
      ],
      "source": [
        "# Plant parameters\n",
        "plant_axiom = \"X\"\n",
        "plant_rules = {\n",
        "    \"X\": \"F+[[X]-X]-F[-FX]+X\",\n",
        "    \"F\": \"FF\"\n",
        "}\n",
        "plant_iterations = 4\n",
        "plant_angle = 25\n",
        "\n",
        "# Generate and draw\n",
        "setup_turtle()\n",
        "t.pensize(1)\n",
        "plant_instructions = create_l_system(plant_iterations, plant_axiom, plant_rules)\n",
        "draw_l_system(plant_instructions, plant_angle, 10)"
      ]
    },
    {
      "cell_type": "markdown",
      "metadata": {
        "id": "fSl4W521X43A"
      },
      "source": [
        "## Challenge: Create a Fractal Tree\n",
        "\n",
        "Now it's your turn to experiment! Below is a template for creating a fractal tree. Try modifying the parameters to create different tree shapes:"
      ]
    },
    {
      "cell_type": "code",
      "execution_count": 58,
      "metadata": {
        "id": "I55bceMTX43A",
        "outputId": "f60c6127-ccf6-4444-e23f-6206534071a0",
        "colab": {
          "base_uri": "https://localhost:8080/",
          "height": 522
        }
      },
      "outputs": [
        {
          "output_type": "display_data",
          "data": {
            "text/plain": [
              "<IPython.core.display.HTML object>"
            ],
            "text/html": [
              "\n",
              "      <svg width=\"800\" height=\"500\">\n",
              "        <rect width=\"100%\" height=\"100%\" fill=\"black\"/>\n",
              "        <line x1=\"400\" y1=\"250\" x2=\"390.489\" y2=\"246.91\" stroke-linecap=\"round\" style=\"stroke:rgb(255,255,255);stroke-width:3\"/><line x1=\"390.489\" y1=\"246.91\" x2=\"380.978\" y2=\"243.82\" stroke-linecap=\"round\" style=\"stroke:rgb(255,255,255);stroke-width:3\"/><line x1=\"380.978\" y1=\"243.82\" x2=\"371.467\" y2=\"240.73\" stroke-linecap=\"round\" style=\"stroke:rgb(255,225,225);stroke-width:2\"/><line x1=\"371.467\" y1=\"240.73\" x2=\"362.195\" y2=\"244.476\" stroke-linecap=\"round\" style=\"stroke:rgb(255,225,225);stroke-width:2\"/><line x1=\"362.195\" y1=\"244.476\" x2=\"352.684\" y2=\"241.386\" stroke-linecap=\"round\" style=\"stroke:rgb(255,225,225);stroke-width:2\"/><line x1=\"352.684\" y1=\"241.386\" x2=\"343.412\" y2=\"245.132\" stroke-linecap=\"round\" style=\"stroke:rgb(255,225,225);stroke-width:2\"/><line x1=\"343.412\" y1=\"245.132\" x2=\"338.717\" y2=\"253.961\" stroke-linecap=\"round\" style=\"stroke:rgb(255,225,225);stroke-width:2\"/><line x1=\"352.684\" y1=\"241.386\" x2=\"343.173\" y2=\"238.296\" stroke-linecap=\"round\" style=\"stroke:rgb(255,225,225);stroke-width:2\"/><line x1=\"343.173\" y1=\"238.296\" x2=\"337.874\" y2=\"229.816\" stroke-linecap=\"round\" style=\"stroke:rgb(255,225,225);stroke-width:2\"/><line x1=\"337.874\" y1=\"229.816\" x2=\"339.266\" y2=\"219.913\" stroke-linecap=\"round\" style=\"stroke:rgb(255,225,225);stroke-width:2\"/><line x1=\"362.195\" y1=\"244.476\" x2=\"357.5\" y2=\"253.305\" stroke-linecap=\"round\" style=\"stroke:rgb(255,225,225);stroke-width:2\"/><line x1=\"357.5\" y1=\"253.305\" x2=\"348.228\" y2=\"257.051\" stroke-linecap=\"round\" style=\"stroke:rgb(255,225,225);stroke-width:2\"/><line x1=\"348.228\" y1=\"257.051\" x2=\"343.533\" y2=\"265.88\" stroke-linecap=\"round\" style=\"stroke:rgb(255,225,225);stroke-width:2\"/><line x1=\"343.533\" y1=\"265.88\" x2=\"345.612\" y2=\"275.661\" stroke-linecap=\"round\" style=\"stroke:rgb(255,225,225);stroke-width:2\"/><line x1=\"371.467\" y1=\"240.73\" x2=\"361.956\" y2=\"237.64\" stroke-linecap=\"round\" style=\"stroke:rgb(255,225,225);stroke-width:2\"/><line x1=\"361.956\" y1=\"237.64\" x2=\"352.445\" y2=\"234.55\" stroke-linecap=\"round\" style=\"stroke:rgb(255,225,225);stroke-width:2\"/><line x1=\"352.445\" y1=\"234.55\" x2=\"342.934\" y2=\"231.46\" stroke-linecap=\"round\" style=\"stroke:rgb(255,200,200);stroke-width:1\"/><line x1=\"342.934\" y1=\"231.46\" x2=\"337.635\" y2=\"222.98\" stroke-linecap=\"round\" style=\"stroke:rgb(255,200,200);stroke-width:1\"/><line x1=\"337.635\" y1=\"222.98\" x2=\"328.124\" y2=\"219.89\" stroke-linecap=\"round\" style=\"stroke:rgb(255,200,200);stroke-width:1\"/><line x1=\"328.124\" y1=\"219.89\" x2=\"318.852\" y2=\"223.636\" stroke-linecap=\"round\" style=\"stroke:rgb(255,200,200);stroke-width:1\"/><line x1=\"318.852\" y1=\"223.636\" x2=\"314.157\" y2=\"232.465\" stroke-linecap=\"round\" style=\"stroke:rgb(255,200,200);stroke-width:1\"/><line x1=\"328.124\" y1=\"219.89\" x2=\"318.613\" y2=\"216.8\" stroke-linecap=\"round\" style=\"stroke:rgb(255,200,200);stroke-width:1\"/><line x1=\"318.613\" y1=\"216.8\" x2=\"313.314\" y2=\"208.32\" stroke-linecap=\"round\" style=\"stroke:rgb(255,200,200);stroke-width:1\"/><line x1=\"313.314\" y1=\"208.32\" x2=\"314.706\" y2=\"198.417\" stroke-linecap=\"round\" style=\"stroke:rgb(255,200,200);stroke-width:1\"/><line x1=\"337.635\" y1=\"222.98\" x2=\"339.027\" y2=\"213.077\" stroke-linecap=\"round\" style=\"stroke:rgb(255,200,200);stroke-width:1\"/><line x1=\"339.027\" y1=\"213.077\" x2=\"333.728\" y2=\"204.597\" stroke-linecap=\"round\" style=\"stroke:rgb(255,200,200);stroke-width:1\"/><line x1=\"333.728\" y1=\"204.597\" x2=\"335.12\" y2=\"194.694\" stroke-linecap=\"round\" style=\"stroke:rgb(255,200,200);stroke-width:1\"/><line x1=\"335.12\" y1=\"194.694\" x2=\"342.551\" y2=\"188.003\" stroke-linecap=\"round\" style=\"stroke:rgb(255,200,200);stroke-width:1\"/><line x1=\"342.934\" y1=\"231.46\" x2=\"333.423\" y2=\"228.37\" stroke-linecap=\"round\" style=\"stroke:rgb(255,200,200);stroke-width:1\"/><line x1=\"333.423\" y1=\"228.37\" x2=\"324.151\" y2=\"232.116\" stroke-linecap=\"round\" style=\"stroke:rgb(255,200,200);stroke-width:1\"/><line x1=\"324.151\" y1=\"232.116\" x2=\"314.64\" y2=\"229.026\" stroke-linecap=\"round\" style=\"stroke:rgb(255,200,200);stroke-width:1\"/><line x1=\"314.64\" y1=\"229.026\" x2=\"305.368\" y2=\"232.772\" stroke-linecap=\"round\" style=\"stroke:rgb(255,200,200);stroke-width:1\"/><line x1=\"305.368\" y1=\"232.772\" x2=\"300.673\" y2=\"241.601\" stroke-linecap=\"round\" style=\"stroke:rgb(255,200,200);stroke-width:1\"/><line x1=\"314.64\" y1=\"229.026\" x2=\"305.129\" y2=\"225.936\" stroke-linecap=\"round\" style=\"stroke:rgb(255,200,200);stroke-width:1\"/><line x1=\"305.129\" y1=\"225.936\" x2=\"299.83\" y2=\"217.456\" stroke-linecap=\"round\" style=\"stroke:rgb(255,200,200);stroke-width:1\"/><line x1=\"299.83\" y1=\"217.456\" x2=\"301.222\" y2=\"207.553\" stroke-linecap=\"round\" style=\"stroke:rgb(255,200,200);stroke-width:1\"/><line x1=\"324.151\" y1=\"232.116\" x2=\"319.456\" y2=\"240.945\" stroke-linecap=\"round\" style=\"stroke:rgb(255,200,200);stroke-width:1\"/><line x1=\"319.456\" y1=\"240.945\" x2=\"310.184\" y2=\"244.691\" stroke-linecap=\"round\" style=\"stroke:rgb(255,200,200);stroke-width:1\"/><line x1=\"310.184\" y1=\"244.691\" x2=\"305.489\" y2=\"253.52\" stroke-linecap=\"round\" style=\"stroke:rgb(255,200,200);stroke-width:1\"/><line x1=\"305.489\" y1=\"253.52\" x2=\"307.568\" y2=\"263.301\" stroke-linecap=\"round\" style=\"stroke:rgb(255,200,200);stroke-width:1\"/><line x1=\"400\" y1=\"250\" x2=\"394.122\" y2=\"258.09\" stroke-linecap=\"round\" style=\"stroke:rgb(255,255,255);stroke-width:3\"/><line x1=\"394.122\" y1=\"258.09\" x2=\"388.244\" y2=\"266.18\" stroke-linecap=\"round\" style=\"stroke:rgb(255,255,255);stroke-width:3\"/><line x1=\"388.244\" y1=\"266.18\" x2=\"382.366\" y2=\"274.27\" stroke-linecap=\"round\" style=\"stroke:rgb(255,225,225);stroke-width:2\"/><line x1=\"382.366\" y1=\"274.27\" x2=\"383.064\" y2=\"284.246\" stroke-linecap=\"round\" style=\"stroke:rgb(255,225,225);stroke-width:2\"/><line x1=\"383.064\" y1=\"284.246\" x2=\"377.186\" y2=\"292.336\" stroke-linecap=\"round\" style=\"stroke:rgb(255,225,225);stroke-width:2\"/><line x1=\"377.186\" y1=\"292.336\" x2=\"377.884\" y2=\"302.312\" stroke-linecap=\"round\" style=\"stroke:rgb(255,225,225);stroke-width:2\"/><line x1=\"377.884\" y1=\"302.312\" x2=\"384.831\" y2=\"309.505\" stroke-linecap=\"round\" style=\"stroke:rgb(255,225,225);stroke-width:2\"/><line x1=\"377.186\" y1=\"292.336\" x2=\"371.308\" y2=\"300.426\" stroke-linecap=\"round\" style=\"stroke:rgb(255,225,225);stroke-width:2\"/><line x1=\"371.308\" y1=\"300.426\" x2=\"361.605\" y2=\"302.845\" stroke-linecap=\"round\" style=\"stroke:rgb(255,225,225);stroke-width:2\"/><line x1=\"361.605\" y1=\"302.845\" x2=\"352.617\" y2=\"298.461\" stroke-linecap=\"round\" style=\"stroke:rgb(255,225,225);stroke-width:2\"/><line x1=\"383.064\" y1=\"284.246\" x2=\"390.011\" y2=\"291.439\" stroke-linecap=\"round\" style=\"stroke:rgb(255,225,225);stroke-width:2\"/><line x1=\"390.011\" y1=\"291.439\" x2=\"390.709\" y2=\"301.415\" stroke-linecap=\"round\" style=\"stroke:rgb(255,225,225);stroke-width:2\"/><line x1=\"390.709\" y1=\"301.415\" x2=\"397.656\" y2=\"308.608\" stroke-linecap=\"round\" style=\"stroke:rgb(255,225,225);stroke-width:2\"/><line x1=\"397.656\" y1=\"308.608\" x2=\"407.601\" y2=\"309.653\" stroke-linecap=\"round\" style=\"stroke:rgb(255,225,225);stroke-width:2\"/><line x1=\"382.366\" y1=\"274.27\" x2=\"376.488\" y2=\"282.36\" stroke-linecap=\"round\" style=\"stroke:rgb(255,225,225);stroke-width:2\"/><line x1=\"376.488\" y1=\"282.36\" x2=\"370.61\" y2=\"290.45\" stroke-linecap=\"round\" style=\"stroke:rgb(255,225,225);stroke-width:2\"/><line x1=\"370.61\" y1=\"290.45\" x2=\"364.732\" y2=\"298.54\" stroke-linecap=\"round\" style=\"stroke:rgb(255,200,200);stroke-width:1\"/><line x1=\"364.732\" y1=\"298.54\" x2=\"355.029\" y2=\"300.959\" stroke-linecap=\"round\" style=\"stroke:rgb(255,200,200);stroke-width:1\"/><line x1=\"355.029\" y1=\"300.959\" x2=\"349.151\" y2=\"309.049\" stroke-linecap=\"round\" style=\"stroke:rgb(255,200,200);stroke-width:1\"/><line x1=\"349.151\" y1=\"309.049\" x2=\"349.849\" y2=\"319.025\" stroke-linecap=\"round\" style=\"stroke:rgb(255,200,200);stroke-width:1\"/><line x1=\"349.849\" y1=\"319.025\" x2=\"356.796\" y2=\"326.218\" stroke-linecap=\"round\" style=\"stroke:rgb(255,200,200);stroke-width:1\"/><line x1=\"349.151\" y1=\"309.049\" x2=\"343.273\" y2=\"317.139\" stroke-linecap=\"round\" style=\"stroke:rgb(255,200,200);stroke-width:1\"/><line x1=\"343.273\" y1=\"317.139\" x2=\"333.57\" y2=\"319.558\" stroke-linecap=\"round\" style=\"stroke:rgb(255,200,200);stroke-width:1\"/><line x1=\"333.57\" y1=\"319.558\" x2=\"324.582\" y2=\"315.174\" stroke-linecap=\"round\" style=\"stroke:rgb(255,200,200);stroke-width:1\"/><line x1=\"355.029\" y1=\"300.959\" x2=\"346.041\" y2=\"296.575\" stroke-linecap=\"round\" style=\"stroke:rgb(255,200,200);stroke-width:1\"/><line x1=\"346.041\" y1=\"296.575\" x2=\"336.338\" y2=\"298.994\" stroke-linecap=\"round\" style=\"stroke:rgb(255,200,200);stroke-width:1\"/><line x1=\"336.338\" y1=\"298.994\" x2=\"327.35\" y2=\"294.61\" stroke-linecap=\"round\" style=\"stroke:rgb(255,200,200);stroke-width:1\"/><line x1=\"327.35\" y1=\"294.61\" x2=\"323.283\" y2=\"285.475\" stroke-linecap=\"round\" style=\"stroke:rgb(255,200,200);stroke-width:1\"/><line x1=\"364.732\" y1=\"298.54\" x2=\"358.854\" y2=\"306.63\" stroke-linecap=\"round\" style=\"stroke:rgb(255,200,200);stroke-width:1\"/><line x1=\"358.854\" y1=\"306.63\" x2=\"359.552\" y2=\"316.606\" stroke-linecap=\"round\" style=\"stroke:rgb(255,200,200);stroke-width:1\"/><line x1=\"359.552\" y1=\"316.606\" x2=\"353.674\" y2=\"324.696\" stroke-linecap=\"round\" style=\"stroke:rgb(255,200,200);stroke-width:1\"/><line x1=\"353.674\" y1=\"324.696\" x2=\"354.372\" y2=\"334.672\" stroke-linecap=\"round\" style=\"stroke:rgb(255,200,200);stroke-width:1\"/><line x1=\"354.372\" y1=\"334.672\" x2=\"361.319\" y2=\"341.865\" stroke-linecap=\"round\" style=\"stroke:rgb(255,200,200);stroke-width:1\"/><line x1=\"353.674\" y1=\"324.696\" x2=\"347.796\" y2=\"332.786\" stroke-linecap=\"round\" style=\"stroke:rgb(255,200,200);stroke-width:1\"/><line x1=\"347.796\" y1=\"332.786\" x2=\"338.093\" y2=\"335.205\" stroke-linecap=\"round\" style=\"stroke:rgb(255,200,200);stroke-width:1\"/><line x1=\"338.093\" y1=\"335.205\" x2=\"329.105\" y2=\"330.821\" stroke-linecap=\"round\" style=\"stroke:rgb(255,200,200);stroke-width:1\"/><line x1=\"359.552\" y1=\"316.606\" x2=\"366.499\" y2=\"323.799\" stroke-linecap=\"round\" style=\"stroke:rgb(255,200,200);stroke-width:1\"/><line x1=\"366.499\" y1=\"323.799\" x2=\"367.197\" y2=\"333.775\" stroke-linecap=\"round\" style=\"stroke:rgb(255,200,200);stroke-width:1\"/><line x1=\"367.197\" y1=\"333.775\" x2=\"374.144\" y2=\"340.968\" stroke-linecap=\"round\" style=\"stroke:rgb(255,200,200);stroke-width:1\"/><line x1=\"374.144\" y1=\"340.968\" x2=\"384.089\" y2=\"342.013\" stroke-linecap=\"round\" style=\"stroke:rgb(255,200,200);stroke-width:1\"/><line x1=\"400\" y1=\"250\" x2=\"405.878\" y2=\"258.09\" stroke-linecap=\"round\" style=\"stroke:rgb(255,255,255);stroke-width:3\"/><line x1=\"405.878\" y1=\"258.09\" x2=\"411.756\" y2=\"266.18\" stroke-linecap=\"round\" style=\"stroke:rgb(255,255,255);stroke-width:3\"/><line x1=\"411.756\" y1=\"266.18\" x2=\"417.634\" y2=\"274.27\" stroke-linecap=\"round\" style=\"stroke:rgb(255,225,225);stroke-width:2\"/><line x1=\"417.634\" y1=\"274.27\" x2=\"427.337\" y2=\"276.689\" stroke-linecap=\"round\" style=\"stroke:rgb(255,225,225);stroke-width:2\"/><line x1=\"427.337\" y1=\"276.689\" x2=\"433.215\" y2=\"284.779\" stroke-linecap=\"round\" style=\"stroke:rgb(255,225,225);stroke-width:2\"/><line x1=\"433.215\" y1=\"284.779\" x2=\"442.918\" y2=\"287.198\" stroke-linecap=\"round\" style=\"stroke:rgb(255,225,225);stroke-width:2\"/><line x1=\"442.918\" y1=\"287.198\" x2=\"451.906\" y2=\"282.814\" stroke-linecap=\"round\" style=\"stroke:rgb(255,225,225);stroke-width:2\"/><line x1=\"433.215\" y1=\"284.779\" x2=\"439.093\" y2=\"292.869\" stroke-linecap=\"round\" style=\"stroke:rgb(255,225,225);stroke-width:2\"/><line x1=\"439.093\" y1=\"292.869\" x2=\"438.395\" y2=\"302.845\" stroke-linecap=\"round\" style=\"stroke:rgb(255,225,225);stroke-width:2\"/><line x1=\"438.395\" y1=\"302.845\" x2=\"431.448\" y2=\"310.038\" stroke-linecap=\"round\" style=\"stroke:rgb(255,225,225);stroke-width:2\"/><line x1=\"427.337\" y1=\"276.689\" x2=\"436.325\" y2=\"272.305\" stroke-linecap=\"round\" style=\"stroke:rgb(255,225,225);stroke-width:2\"/><line x1=\"436.325\" y1=\"272.305\" x2=\"446.028\" y2=\"274.724\" stroke-linecap=\"round\" style=\"stroke:rgb(255,225,225);stroke-width:2\"/><line x1=\"446.028\" y1=\"274.724\" x2=\"455.016\" y2=\"270.34\" stroke-linecap=\"round\" style=\"stroke:rgb(255,225,225);stroke-width:2\"/><line x1=\"455.016\" y1=\"270.34\" x2=\"459.083\" y2=\"261.205\" stroke-linecap=\"round\" style=\"stroke:rgb(255,225,225);stroke-width:2\"/><line x1=\"417.634\" y1=\"274.27\" x2=\"423.512\" y2=\"282.36\" stroke-linecap=\"round\" style=\"stroke:rgb(255,225,225);stroke-width:2\"/><line x1=\"423.512\" y1=\"282.36\" x2=\"429.39\" y2=\"290.45\" stroke-linecap=\"round\" style=\"stroke:rgb(255,225,225);stroke-width:2\"/><line x1=\"429.39\" y1=\"290.45\" x2=\"435.268\" y2=\"298.54\" stroke-linecap=\"round\" style=\"stroke:rgb(255,200,200);stroke-width:1\"/><line x1=\"435.268\" y1=\"298.54\" x2=\"434.57\" y2=\"308.516\" stroke-linecap=\"round\" style=\"stroke:rgb(255,200,200);stroke-width:1\"/><line x1=\"434.57\" y1=\"308.516\" x2=\"440.448\" y2=\"316.606\" stroke-linecap=\"round\" style=\"stroke:rgb(255,200,200);stroke-width:1\"/><line x1=\"440.448\" y1=\"316.606\" x2=\"450.151\" y2=\"319.025\" stroke-linecap=\"round\" style=\"stroke:rgb(255,200,200);stroke-width:1\"/><line x1=\"450.151\" y1=\"319.025\" x2=\"459.139\" y2=\"314.641\" stroke-linecap=\"round\" style=\"stroke:rgb(255,200,200);stroke-width:1\"/><line x1=\"440.448\" y1=\"316.606\" x2=\"446.326\" y2=\"324.696\" stroke-linecap=\"round\" style=\"stroke:rgb(255,200,200);stroke-width:1\"/><line x1=\"446.326\" y1=\"324.696\" x2=\"445.628\" y2=\"334.672\" stroke-linecap=\"round\" style=\"stroke:rgb(255,200,200);stroke-width:1\"/><line x1=\"445.628\" y1=\"334.672\" x2=\"438.681\" y2=\"341.865\" stroke-linecap=\"round\" style=\"stroke:rgb(255,200,200);stroke-width:1\"/><line x1=\"434.57\" y1=\"308.516\" x2=\"427.623\" y2=\"315.709\" stroke-linecap=\"round\" style=\"stroke:rgb(255,200,200);stroke-width:1\"/><line x1=\"427.623\" y1=\"315.709\" x2=\"426.925\" y2=\"325.685\" stroke-linecap=\"round\" style=\"stroke:rgb(255,200,200);stroke-width:1\"/><line x1=\"426.925\" y1=\"325.685\" x2=\"419.978\" y2=\"332.878\" stroke-linecap=\"round\" style=\"stroke:rgb(255,200,200);stroke-width:1\"/><line x1=\"419.978\" y1=\"332.878\" x2=\"410.033\" y2=\"333.923\" stroke-linecap=\"round\" style=\"stroke:rgb(255,200,200);stroke-width:1\"/><line x1=\"435.268\" y1=\"298.54\" x2=\"441.146\" y2=\"306.63\" stroke-linecap=\"round\" style=\"stroke:rgb(255,200,200);stroke-width:1\"/><line x1=\"441.146\" y1=\"306.63\" x2=\"450.849\" y2=\"309.049\" stroke-linecap=\"round\" style=\"stroke:rgb(255,200,200);stroke-width:1\"/><line x1=\"450.849\" y1=\"309.049\" x2=\"456.727\" y2=\"317.139\" stroke-linecap=\"round\" style=\"stroke:rgb(255,200,200);stroke-width:1\"/><line x1=\"456.727\" y1=\"317.139\" x2=\"466.43\" y2=\"319.558\" stroke-linecap=\"round\" style=\"stroke:rgb(255,200,200);stroke-width:1\"/><line x1=\"466.43\" y1=\"319.558\" x2=\"475.418\" y2=\"315.174\" stroke-linecap=\"round\" style=\"stroke:rgb(255,200,200);stroke-width:1\"/><line x1=\"456.727\" y1=\"317.139\" x2=\"462.605\" y2=\"325.229\" stroke-linecap=\"round\" style=\"stroke:rgb(255,200,200);stroke-width:1\"/><line x1=\"462.605\" y1=\"325.229\" x2=\"461.907\" y2=\"335.205\" stroke-linecap=\"round\" style=\"stroke:rgb(255,200,200);stroke-width:1\"/><line x1=\"461.907\" y1=\"335.205\" x2=\"454.96\" y2=\"342.398\" stroke-linecap=\"round\" style=\"stroke:rgb(255,200,200);stroke-width:1\"/><line x1=\"450.849\" y1=\"309.049\" x2=\"459.837\" y2=\"304.665\" stroke-linecap=\"round\" style=\"stroke:rgb(255,200,200);stroke-width:1\"/><line x1=\"459.837\" y1=\"304.665\" x2=\"469.54\" y2=\"307.084\" stroke-linecap=\"round\" style=\"stroke:rgb(255,200,200);stroke-width:1\"/><line x1=\"469.54\" y1=\"307.084\" x2=\"478.528\" y2=\"302.7\" stroke-linecap=\"round\" style=\"stroke:rgb(255,200,200);stroke-width:1\"/><line x1=\"478.528\" y1=\"302.7\" x2=\"482.595\" y2=\"293.565\" stroke-linecap=\"round\" style=\"stroke:rgb(255,200,200);stroke-width:1\"/><line x1=\"400\" y1=\"250\" x2=\"409.511\" y2=\"246.91\" stroke-linecap=\"round\" style=\"stroke:rgb(255,255,255);stroke-width:3\"/><line x1=\"409.511\" y1=\"246.91\" x2=\"419.022\" y2=\"243.82\" stroke-linecap=\"round\" style=\"stroke:rgb(255,255,255);stroke-width:3\"/><line x1=\"419.022\" y1=\"243.82\" x2=\"428.533\" y2=\"240.73\" stroke-linecap=\"round\" style=\"stroke:rgb(255,225,225);stroke-width:2\"/><line x1=\"428.533\" y1=\"240.73\" x2=\"433.832\" y2=\"232.25\" stroke-linecap=\"round\" style=\"stroke:rgb(255,225,225);stroke-width:2\"/><line x1=\"433.832\" y1=\"232.25\" x2=\"443.343\" y2=\"229.16\" stroke-linecap=\"round\" style=\"stroke:rgb(255,225,225);stroke-width:2\"/><line x1=\"443.343\" y1=\"229.16\" x2=\"448.642\" y2=\"220.68\" stroke-linecap=\"round\" style=\"stroke:rgb(255,225,225);stroke-width:2\"/><line x1=\"448.642\" y1=\"220.68\" x2=\"447.25\" y2=\"210.777\" stroke-linecap=\"round\" style=\"stroke:rgb(255,225,225);stroke-width:2\"/><line x1=\"443.343\" y1=\"229.16\" x2=\"452.854\" y2=\"226.07\" stroke-linecap=\"round\" style=\"stroke:rgb(255,225,225);stroke-width:2\"/><line x1=\"452.854\" y1=\"226.07\" x2=\"462.126\" y2=\"229.816\" stroke-linecap=\"round\" style=\"stroke:rgb(255,225,225);stroke-width:2\"/><line x1=\"462.126\" y1=\"229.816\" x2=\"466.821\" y2=\"238.645\" stroke-linecap=\"round\" style=\"stroke:rgb(255,225,225);stroke-width:2\"/><line x1=\"433.832\" y1=\"232.25\" x2=\"432.44\" y2=\"222.347\" stroke-linecap=\"round\" style=\"stroke:rgb(255,225,225);stroke-width:2\"/><line x1=\"432.44\" y1=\"222.347\" x2=\"437.739\" y2=\"213.867\" stroke-linecap=\"round\" style=\"stroke:rgb(255,225,225);stroke-width:2\"/><line x1=\"437.739\" y1=\"213.867\" x2=\"436.347\" y2=\"203.964\" stroke-linecap=\"round\" style=\"stroke:rgb(255,225,225);stroke-width:2\"/><line x1=\"436.347\" y1=\"203.964\" x2=\"428.916\" y2=\"197.273\" stroke-linecap=\"round\" style=\"stroke:rgb(255,225,225);stroke-width:2\"/><line x1=\"428.533\" y1=\"240.73\" x2=\"438.044\" y2=\"237.64\" stroke-linecap=\"round\" style=\"stroke:rgb(255,225,225);stroke-width:2\"/><line x1=\"438.044\" y1=\"237.64\" x2=\"447.555\" y2=\"234.55\" stroke-linecap=\"round\" style=\"stroke:rgb(255,225,225);stroke-width:2\"/><line x1=\"447.555\" y1=\"234.55\" x2=\"457.066\" y2=\"231.46\" stroke-linecap=\"round\" style=\"stroke:rgb(255,200,200);stroke-width:1\"/><line x1=\"457.066\" y1=\"231.46\" x2=\"466.338\" y2=\"235.206\" stroke-linecap=\"round\" style=\"stroke:rgb(255,200,200);stroke-width:1\"/><line x1=\"466.338\" y1=\"235.206\" x2=\"475.849\" y2=\"232.116\" stroke-linecap=\"round\" style=\"stroke:rgb(255,200,200);stroke-width:1\"/><line x1=\"475.849\" y1=\"232.116\" x2=\"481.148\" y2=\"223.636\" stroke-linecap=\"round\" style=\"stroke:rgb(255,200,200);stroke-width:1\"/><line x1=\"481.148\" y1=\"223.636\" x2=\"479.756\" y2=\"213.733\" stroke-linecap=\"round\" style=\"stroke:rgb(255,200,200);stroke-width:1\"/><line x1=\"475.849\" y1=\"232.116\" x2=\"485.36\" y2=\"229.026\" stroke-linecap=\"round\" style=\"stroke:rgb(255,200,200);stroke-width:1\"/><line x1=\"485.36\" y1=\"229.026\" x2=\"494.632\" y2=\"232.772\" stroke-linecap=\"round\" style=\"stroke:rgb(255,200,200);stroke-width:1\"/><line x1=\"494.632\" y1=\"232.772\" x2=\"499.327\" y2=\"241.601\" stroke-linecap=\"round\" style=\"stroke:rgb(255,200,200);stroke-width:1\"/><line x1=\"466.338\" y1=\"235.206\" x2=\"471.033\" y2=\"244.035\" stroke-linecap=\"round\" style=\"stroke:rgb(255,200,200);stroke-width:1\"/><line x1=\"471.033\" y1=\"244.035\" x2=\"480.305\" y2=\"247.781\" stroke-linecap=\"round\" style=\"stroke:rgb(255,200,200);stroke-width:1\"/><line x1=\"480.305\" y1=\"247.781\" x2=\"485.0\" y2=\"256.61\" stroke-linecap=\"round\" style=\"stroke:rgb(255,200,200);stroke-width:1\"/><line x1=\"485.0\" y1=\"256.61\" x2=\"482.921\" y2=\"266.391\" stroke-linecap=\"round\" style=\"stroke:rgb(255,200,200);stroke-width:1\"/><line x1=\"457.066\" y1=\"231.46\" x2=\"466.577\" y2=\"228.37\" stroke-linecap=\"round\" style=\"stroke:rgb(255,200,200);stroke-width:1\"/><line x1=\"466.577\" y1=\"228.37\" x2=\"471.876\" y2=\"219.89\" stroke-linecap=\"round\" style=\"stroke:rgb(255,200,200);stroke-width:1\"/><line x1=\"471.876\" y1=\"219.89\" x2=\"481.387\" y2=\"216.8\" stroke-linecap=\"round\" style=\"stroke:rgb(255,200,200);stroke-width:1\"/><line x1=\"481.387\" y1=\"216.8\" x2=\"486.686\" y2=\"208.32\" stroke-linecap=\"round\" style=\"stroke:rgb(255,200,200);stroke-width:1\"/><line x1=\"486.686\" y1=\"208.32\" x2=\"485.294\" y2=\"198.417\" stroke-linecap=\"round\" style=\"stroke:rgb(255,200,200);stroke-width:1\"/><line x1=\"481.387\" y1=\"216.8\" x2=\"490.898\" y2=\"213.71\" stroke-linecap=\"round\" style=\"stroke:rgb(255,200,200);stroke-width:1\"/><line x1=\"490.898\" y1=\"213.71\" x2=\"500.17\" y2=\"217.456\" stroke-linecap=\"round\" style=\"stroke:rgb(255,200,200);stroke-width:1\"/><line x1=\"500.17\" y1=\"217.456\" x2=\"504.865\" y2=\"226.285\" stroke-linecap=\"round\" style=\"stroke:rgb(255,200,200);stroke-width:1\"/><line x1=\"471.876\" y1=\"219.89\" x2=\"470.484\" y2=\"209.987\" stroke-linecap=\"round\" style=\"stroke:rgb(255,200,200);stroke-width:1\"/><line x1=\"470.484\" y1=\"209.987\" x2=\"475.783\" y2=\"201.507\" stroke-linecap=\"round\" style=\"stroke:rgb(255,200,200);stroke-width:1\"/><line x1=\"475.783\" y1=\"201.507\" x2=\"474.391\" y2=\"191.604\" stroke-linecap=\"round\" style=\"stroke:rgb(255,200,200);stroke-width:1\"/><line x1=\"474.391\" y1=\"191.604\" x2=\"466.96\" y2=\"184.913\" stroke-linecap=\"round\" style=\"stroke:rgb(255,200,200);stroke-width:1\"/><line x1=\"400\" y1=\"250\" x2=\"400.0\" y2=\"240.0\" stroke-linecap=\"round\" style=\"stroke:rgb(255,255,255);stroke-width:3\"/><line x1=\"400.0\" y1=\"240.0\" x2=\"400.0\" y2=\"230.0\" stroke-linecap=\"round\" style=\"stroke:rgb(255,255,255);stroke-width:3\"/><line x1=\"400.0\" y1=\"230.0\" x2=\"400.0\" y2=\"220.0\" stroke-linecap=\"round\" style=\"stroke:rgb(255,225,225);stroke-width:2\"/><line x1=\"400.0\" y1=\"220.0\" x2=\"393.572\" y2=\"212.34\" stroke-linecap=\"round\" style=\"stroke:rgb(255,225,225);stroke-width:2\"/><line x1=\"393.572\" y1=\"212.34\" x2=\"393.572\" y2=\"202.34\" stroke-linecap=\"round\" style=\"stroke:rgb(255,225,225);stroke-width:2\"/><line x1=\"393.572\" y1=\"202.34\" x2=\"387.144\" y2=\"194.68\" stroke-linecap=\"round\" style=\"stroke:rgb(255,225,225);stroke-width:2\"/><line x1=\"387.144\" y1=\"194.68\" x2=\"377.296\" y2=\"192.944\" stroke-linecap=\"round\" style=\"stroke:rgb(255,225,225);stroke-width:2\"/><line x1=\"393.572\" y1=\"202.34\" x2=\"393.572\" y2=\"192.34\" stroke-linecap=\"round\" style=\"stroke:rgb(255,225,225);stroke-width:2\"/><line x1=\"393.572\" y1=\"192.34\" x2=\"400.0\" y2=\"184.68\" stroke-linecap=\"round\" style=\"stroke:rgb(255,225,225);stroke-width:2\"/><line x1=\"400.0\" y1=\"184.68\" x2=\"409.848\" y2=\"182.944\" stroke-linecap=\"round\" style=\"stroke:rgb(255,225,225);stroke-width:2\"/><line x1=\"393.572\" y1=\"212.34\" x2=\"383.724\" y2=\"210.604\" stroke-linecap=\"round\" style=\"stroke:rgb(255,225,225);stroke-width:2\"/><line x1=\"383.724\" y1=\"210.604\" x2=\"377.296\" y2=\"202.944\" stroke-linecap=\"round\" style=\"stroke:rgb(255,225,225);stroke-width:2\"/><line x1=\"377.296\" y1=\"202.944\" x2=\"367.448\" y2=\"201.208\" stroke-linecap=\"round\" style=\"stroke:rgb(255,225,225);stroke-width:2\"/><line x1=\"367.448\" y1=\"201.208\" x2=\"358.788\" y2=\"206.208\" stroke-linecap=\"round\" style=\"stroke:rgb(255,225,225);stroke-width:2\"/><line x1=\"400.0\" y1=\"220.0\" x2=\"400.0\" y2=\"210.0\" stroke-linecap=\"round\" style=\"stroke:rgb(255,225,225);stroke-width:2\"/><line x1=\"400.0\" y1=\"210.0\" x2=\"400.0\" y2=\"200.0\" stroke-linecap=\"round\" style=\"stroke:rgb(255,225,225);stroke-width:2\"/><line x1=\"400.0\" y1=\"200.0\" x2=\"400.0\" y2=\"190.0\" stroke-linecap=\"round\" style=\"stroke:rgb(255,200,200);stroke-width:1\"/><line x1=\"400.0\" y1=\"190.0\" x2=\"406.428\" y2=\"182.34\" stroke-linecap=\"round\" style=\"stroke:rgb(255,200,200);stroke-width:1\"/><line x1=\"406.428\" y1=\"182.34\" x2=\"406.428\" y2=\"172.34\" stroke-linecap=\"round\" style=\"stroke:rgb(255,200,200);stroke-width:1\"/><line x1=\"406.428\" y1=\"172.34\" x2=\"400.0\" y2=\"164.68\" stroke-linecap=\"round\" style=\"stroke:rgb(255,200,200);stroke-width:1\"/><line x1=\"400.0\" y1=\"164.68\" x2=\"390.152\" y2=\"162.944\" stroke-linecap=\"round\" style=\"stroke:rgb(255,200,200);stroke-width:1\"/><line x1=\"406.428\" y1=\"172.34\" x2=\"406.428\" y2=\"162.34\" stroke-linecap=\"round\" style=\"stroke:rgb(255,200,200);stroke-width:1\"/><line x1=\"406.428\" y1=\"162.34\" x2=\"412.856\" y2=\"154.68\" stroke-linecap=\"round\" style=\"stroke:rgb(255,200,200);stroke-width:1\"/><line x1=\"412.856\" y1=\"154.68\" x2=\"422.704\" y2=\"152.944\" stroke-linecap=\"round\" style=\"stroke:rgb(255,200,200);stroke-width:1\"/><line x1=\"406.428\" y1=\"182.34\" x2=\"416.276\" y2=\"180.604\" stroke-linecap=\"round\" style=\"stroke:rgb(255,200,200);stroke-width:1\"/><line x1=\"416.276\" y1=\"180.604\" x2=\"422.704\" y2=\"172.944\" stroke-linecap=\"round\" style=\"stroke:rgb(255,200,200);stroke-width:1\"/><line x1=\"422.704\" y1=\"172.944\" x2=\"432.552\" y2=\"171.208\" stroke-linecap=\"round\" style=\"stroke:rgb(255,200,200);stroke-width:1\"/><line x1=\"432.552\" y1=\"171.208\" x2=\"441.212\" y2=\"176.208\" stroke-linecap=\"round\" style=\"stroke:rgb(255,200,200);stroke-width:1\"/><line x1=\"400.0\" y1=\"190.0\" x2=\"400.0\" y2=\"180.0\" stroke-linecap=\"round\" style=\"stroke:rgb(255,200,200);stroke-width:1\"/><line x1=\"400.0\" y1=\"180.0\" x2=\"393.572\" y2=\"172.34\" stroke-linecap=\"round\" style=\"stroke:rgb(255,200,200);stroke-width:1\"/><line x1=\"393.572\" y1=\"172.34\" x2=\"393.572\" y2=\"162.34\" stroke-linecap=\"round\" style=\"stroke:rgb(255,200,200);stroke-width:1\"/><line x1=\"393.572\" y1=\"162.34\" x2=\"387.144\" y2=\"154.68\" stroke-linecap=\"round\" style=\"stroke:rgb(255,200,200);stroke-width:1\"/><line x1=\"387.144\" y1=\"154.68\" x2=\"377.296\" y2=\"152.944\" stroke-linecap=\"round\" style=\"stroke:rgb(255,200,200);stroke-width:1\"/><line x1=\"393.572\" y1=\"162.34\" x2=\"393.572\" y2=\"152.34\" stroke-linecap=\"round\" style=\"stroke:rgb(255,200,200);stroke-width:1\"/><line x1=\"393.572\" y1=\"152.34\" x2=\"400.0\" y2=\"144.68\" stroke-linecap=\"round\" style=\"stroke:rgb(255,200,200);stroke-width:1\"/><line x1=\"400.0\" y1=\"144.68\" x2=\"409.848\" y2=\"142.944\" stroke-linecap=\"round\" style=\"stroke:rgb(255,200,200);stroke-width:1\"/><line x1=\"393.572\" y1=\"172.34\" x2=\"383.724\" y2=\"170.604\" stroke-linecap=\"round\" style=\"stroke:rgb(255,200,200);stroke-width:1\"/><line x1=\"383.724\" y1=\"170.604\" x2=\"377.296\" y2=\"162.944\" stroke-linecap=\"round\" style=\"stroke:rgb(255,200,200);stroke-width:1\"/><line x1=\"377.296\" y1=\"162.944\" x2=\"367.448\" y2=\"161.208\" stroke-linecap=\"round\" style=\"stroke:rgb(255,200,200);stroke-width:1\"/><line x1=\"367.448\" y1=\"161.208\" x2=\"358.788\" y2=\"166.208\" stroke-linecap=\"round\" style=\"stroke:rgb(255,200,200);stroke-width:1\"/>\n",
              "        <g visibility=hidden transform=\"rotate(360.0,400,250) translate(382, 232)\">\n",
              "<path style=\" stroke:none;fill-rule:evenodd;fill:rgb(255,200,200);fill-opacity:1;\" d=\"M 18.214844 0.632812 C 16.109375 1.800781 15.011719 4.074219 15.074219 7.132812 L 15.085938 7.652344 L 14.785156 7.496094 C 13.476562 6.824219 11.957031 6.671875 10.40625 7.066406 C 8.46875 7.550781 6.515625 9.15625 4.394531 11.992188 C 3.0625 13.777344 2.679688 14.636719 3.042969 15.027344 L 3.15625 15.152344 L 3.519531 15.152344 C 4.238281 15.152344 4.828125 14.886719 8.1875 13.039062 C 9.386719 12.378906 10.371094 11.839844 10.378906 11.839844 C 10.386719 11.839844 10.355469 11.929688 10.304688 12.035156 C 9.832031 13.09375 9.257812 14.820312 8.96875 16.078125 C 7.914062 20.652344 8.617188 24.53125 11.070312 27.660156 C 11.351562 28.015625 11.363281 27.914062 10.972656 28.382812 C 8.925781 30.84375 7.945312 33.28125 8.238281 35.1875 C 8.289062 35.527344 8.28125 35.523438 8.917969 35.523438 C 10.941406 35.523438 13.074219 34.207031 15.136719 31.6875 C 15.359375 31.417969 15.328125 31.425781 15.5625 31.574219 C 16.292969 32.042969 18.023438 32.964844 18.175781 32.964844 C 18.335938 32.964844 19.941406 32.210938 20.828125 31.71875 C 20.996094 31.625 21.136719 31.554688 21.136719 31.558594 C 21.203125 31.664062 21.898438 32.414062 22.222656 32.730469 C 23.835938 34.300781 25.5625 35.132812 27.582031 35.300781 C 27.90625 35.328125 27.9375 35.308594 28.007812 34.984375 C 28.382812 33.242188 27.625 30.925781 25.863281 28.425781 L 25.542969 27.96875 L 25.699219 27.785156 C 28.945312 23.960938 29.132812 18.699219 26.257812 11.96875 L 26.207031 11.84375 L 27.945312 12.703125 C 31.53125 14.476562 32.316406 14.800781 33.03125 14.800781 C 33.976562 14.800781 33.78125 13.9375 32.472656 12.292969 C 28.519531 7.355469 25.394531 5.925781 21.921875 7.472656 L 21.558594 7.636719 L 21.578125 7.542969 C 21.699219 6.992188 21.761719 5.742188 21.699219 5.164062 C 21.496094 3.296875 20.664062 1.964844 19.003906 0.855469 C 18.480469 0.503906 18.457031 0.5 18.214844 0.632812\"/>\n",
              "</g>\n",
              "      </svg>\n",
              "    "
            ]
          },
          "metadata": {}
        }
      ],
      "source": [
        "# Your fractal tree parameters\n",
        "tree_axiom = \"X\"\n",
        "tree_rules = {\n",
        "    \"X\": \"3FF2AFF1BA\",\n",
        "    \"A\": \"F[-F[+AB]-F+A]\",\n",
        "    \"B\": \"F[+F[-AB]+F-B]\"\n",
        "}\n",
        "tree_iterations = 3\n",
        "tree_angle = 40\n",
        "\n",
        "branch_num = 5; #number of branches in the 'snow flake'\n",
        "start_angle= 360/branch_num; #branches are evenly spaced out\n",
        "\n",
        "setup_turtle()\n",
        "\n",
        "t.pensize(3)\n",
        "# Generate and draw\n",
        "for x in range(0,branch_num) : #draw each branch\n",
        "  t.left(start_angle) #rotate\n",
        "  tree_instructions = create_l_system(tree_iterations, tree_axiom, tree_rules)\n",
        "  draw_l_system(tree_instructions, tree_angle,10)\n",
        "  #after finishing the branch, return to center\n",
        "  t.penup()\n",
        "  t.goto(t.window_width() // 2, t.window_height() //2 )  # Start position\n",
        "  t.pendown()\n"
      ]
    },
    {
      "cell_type": "markdown",
      "metadata": {
        "id": "9wkdxMDuX43A"
      },
      "source": [
        "### Challenge Tasks:\n",
        "1. Modify the rules to create more realistic branching\n",
        "2. Add different colors for different parts of the tree\n",
        "3. Try to create a tree with varying branch lengths\n",
        "4. Experiment with asymmetric branching patterns\n",
        "\n",
        "## Additional Experiments\n",
        "Here are some ideas for further exploration:\n",
        "- Create a snowflake pattern\n",
        "- Generate a spiral pattern\n",
        "- Implement a dragon curve\n",
        "- Create a forest of different trees\n",
        "\n",
        "Tips:\n",
        "- Higher iterations create more complex patterns but take longer to draw\n",
        "- Small changes in rules can create dramatically different results\n",
        "- The angle parameter greatly affects the final appearance\n",
        "- Remember to close turtle windows between experiments"
      ]
    }
  ],
  "metadata": {
    "kernelspec": {
      "display_name": "iat460",
      "language": "python",
      "name": "python3"
    },
    "language_info": {
      "codemirror_mode": {
        "name": "ipython",
        "version": 3
      },
      "file_extension": ".py",
      "mimetype": "text/x-python",
      "name": "python",
      "nbconvert_exporter": "python",
      "pygments_lexer": "ipython3",
      "version": "3.9.21"
    },
    "colab": {
      "provenance": []
    }
  },
  "nbformat": 4,
  "nbformat_minor": 0
}